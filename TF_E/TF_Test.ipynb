{
 "cells": [
  {
   "cell_type": "markdown",
   "metadata": {},
   "source": [
    "# mathematical operations on matrices\n",
    "\n",
    "Operation\tDescription\n",
    "\n",
    "tf.add\tsum\n",
    "tf.sub\tsubstraction\n",
    "tf.muliply\tmultiplication\n",
    "tf.div\tdivision\n",
    "tf.mod\tmodule\n",
    "tf.abs\treturn the absolute value\n",
    "tf.neg\treturn negative value\n",
    "tf.sign\treturn the sign\n",
    "tf.inv\treturns the inverse\n",
    "tf.square\tcalculates the square\n",
    "tf.round\treturns the nearest integer\n",
    "tf.sqrt\tcalculates the square root\n",
    "tf.pow\tcalculates the power\n",
    "tf.exp\tcalculates the exponential\n",
    "tf.log\tcalculates the logarithm\n",
    "tf.maximum\treturns the maximum\n",
    "tf.minimum\treturns the minimum\n",
    "tf.cos\tcalculates the cosine\n",
    "tf.sin\tcalculates the sine"
   ]
  },
  {
   "cell_type": "markdown",
   "metadata": {},
   "source": [
    "# mathematical operations  on Tensors\n",
    "\n",
    "Operation\t     Description\n",
    "\n",
    "tf.diag\t         returns a diagonal tensor with a given diagonal values\n",
    "tf.transpose\treturns the transposes of the argument\n",
    "tf.matmul\t    returns a tensor product of multiplying two tensors listed as arguments\n",
    "tf.matrix_determinant\treturns the determinant of the square matrix specified as an argument\n",
    "tf.matrix_inverse\treturns the inverse of the square matrix specified as an argument"
   ]
  },
  {
   "cell_type": "code",
   "execution_count": 2,
   "metadata": {
    "collapsed": false
   },
   "outputs": [
    {
     "name": "stdout",
     "output_type": "stream",
     "text": [
      "9.0\n"
     ]
    }
   ],
   "source": [
    "import tensorflow as tf\n",
    "a = tf.placeholder(\"float\")\n",
    "b = tf.placeholder(\"float\")\n",
    "\n",
    "# y = tf.mul(a,b)  # old version\n",
    "\n",
    "y = tf.multiply(a,b)\n",
    "\n",
    "sess = tf.Session()\n",
    "\n",
    "print(sess.run(y,feed_dict={a: 3, b:3}))"
   ]
  },
  {
   "cell_type": "code",
   "execution_count": 1,
   "metadata": {
    "collapsed": false
   },
   "outputs": [
    {
     "name": "stdout",
     "output_type": "stream",
     "text": [
      "b'Hello, TensorFlow!'\n"
     ]
    }
   ],
   "source": [
    "import tensorflow as tf\n",
    "hello = tf.constant('Hello, TensorFlow!')\n",
    "sess = tf.Session()\n",
    "print(sess.run(hello))"
   ]
  },
  {
   "cell_type": "code",
   "execution_count": null,
   "metadata": {
    "collapsed": true
   },
   "outputs": [],
   "source": []
  }
 ],
 "metadata": {
  "kernelspec": {
   "display_name": "Python 3",
   "language": "python",
   "name": "python3"
  },
  "language_info": {
   "codemirror_mode": {
    "name": "ipython",
    "version": 3
   },
   "file_extension": ".py",
   "mimetype": "text/x-python",
   "name": "python",
   "nbconvert_exporter": "python",
   "pygments_lexer": "ipython3",
   "version": "3.6.0"
  }
 },
 "nbformat": 4,
 "nbformat_minor": 2
}
