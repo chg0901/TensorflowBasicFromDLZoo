{
 "cells": [
  {
   "cell_type": "markdown",
   "metadata": {},
   "source": [
    "# Declear Tensors\n",
    "\n",
    "\n",
    "## fixed tensors\n"
   ]
  },
  {
   "cell_type": "code",
   "execution_count": 1,
   "metadata": {
    "collapsed": true
   },
   "outputs": [],
   "source": [
    "import tensorflow as tf"
   ]
  },
  {
   "cell_type": "code",
   "execution_count": 2,
   "metadata": {
    "collapsed": true
   },
   "outputs": [],
   "source": [
    "# zero filled tensor\n",
    "zero_tsr = tf.zeros([3,3])\n",
    "zero_tsr"
   ]
  },
  {
   "cell_type": "code",
   "execution_count": 6,
   "metadata": {
    "collapsed": false
   },
   "outputs": [
    {
     "name": "stdout",
     "output_type": "stream",
     "text": [
      "Tensor(\"ones_2:0\", shape=(4, 4), dtype=float32)\n"
     ]
    }
   ],
   "source": [
    "# one filled tensor\n",
    "one_tsr = tf.ones([4,4])\n",
    "print(one_tsr)"
   ]
  },
  {
   "cell_type": "code",
   "execution_count": 8,
   "metadata": {
    "collapsed": false
   },
   "outputs": [],
   "source": [
    "# constant filled tensor\n",
    "filled_tsr = tf.fill([2,3],23)\n",
    "print(filled_tsr)"
   ]
  },
  {
   "cell_type": "code",
   "execution_count": 13,
   "metadata": {
    "collapsed": true
   },
   "outputs": [],
   "source": [
    "# create tensor out of an exsting constant\n",
    "constant_tsr = tf.constant([[1,2,3],[4,5,6]])\n",
    "\n",
    "print(constant_tsr)"
   ]
  },
  {
   "cell_type": "markdown",
   "metadata": {},
   "source": [
    "\n",
    "\n",
    "## Tensors of similar shape\n",
    "\n"
   ]
  },
  {
   "cell_type": "code",
   "execution_count": 15,
   "metadata": {
    "collapsed": false
   },
   "outputs": [
    {
     "name": "stdout",
     "output_type": "stream",
     "text": [
      "Tensor(\"zeros_like:0\", shape=(2, 3), dtype=int32)\n",
      "Tensor(\"ones_like:0\", shape=(2, 3), dtype=int32)\n"
     ]
    }
   ],
   "source": [
    "# initialize variables based on the shape of other tensors\n",
    "\n",
    "zeros_similar = tf.zeros_like(constant_tsr)\n",
    "\n",
    "ones_similar = tf.ones_like(constant_tsr)\n",
    "\n",
    "print(zeros_similar)\n",
    "\n",
    "print(ones_similar)"
   ]
  },
  {
   "cell_type": "markdown",
   "metadata": {},
   "source": [
    "\n",
    "\n",
    "## Sequence tensors\n",
    "\n"
   ]
  },
  {
   "cell_type": "code",
   "execution_count": 29,
   "metadata": {
    "collapsed": false
   },
   "outputs": [
    {
     "name": "stdout",
     "output_type": "stream",
     "text": [
      "Tensor(\"LinSpace_10:0\", shape=(32,), dtype=float32)\n"
     ]
    }
   ],
   "source": [
    "# specify tensors that contains defined intervals\n",
    "\n",
    "# include the stop value\n",
    "# linear_tsr = tf.linspace(start=0,num=3,stop=1)\n",
    "linear_tsr = tf.linspace(-3.0, 3.0,32)\n",
    "\n",
    "print(linear_tsr)"
   ]
  },
  {
   "cell_type": "code",
   "execution_count": 30,
   "metadata": {
    "collapsed": false
   },
   "outputs": [
    {
     "name": "stdout",
     "output_type": "stream",
     "text": [
      "Tensor(\"range:0\", shape=(3,), dtype=int32)\n"
     ]
    }
   ],
   "source": [
    "# tf.range()\n",
    "\n",
    "integer_seq_tsr = tf.range(start=6,limit=15,delta=3)\n",
    "print(integer_seq_tsr)"
   ]
  },
  {
   "cell_type": "code",
   "execution_count": 31,
   "metadata": {
    "collapsed": false
   },
   "outputs": [
    {
     "name": "stdout",
     "output_type": "stream",
     "text": [
      "Tensor(\"random_uniform:0\", shape=(4, 4), dtype=float32)\n"
     ]
    }
   ],
   "source": [
    "# random tensor\n",
    "\n",
    "#include the minval but not the maxval \n",
    "# minval <= x <maxval\n",
    "\n",
    "randomif_tsr = tf.random_uniform([4,4],minval=0,maxval=1)\n",
    "print(randomif_tsr)"
   ]
  },
  {
   "cell_type": "code",
   "execution_count": 32,
   "metadata": {
    "collapsed": false
   },
   "outputs": [
    {
     "name": "stdout",
     "output_type": "stream",
     "text": [
      "Tensor(\"random_normal:0\", shape=(4, 4), dtype=float32)\n"
     ]
    }
   ],
   "source": [
    "# normal distribution\n",
    "\n",
    "randnorm_tsr = tf.random_normal([4,4],mean=0.0,stddev=1.0)\n",
    "print(randnorm_tsr)"
   ]
  },
  {
   "cell_type": "code",
   "execution_count": 33,
   "metadata": {
    "collapsed": false
   },
   "outputs": [
    {
     "name": "stdout",
     "output_type": "stream",
     "text": [
      "Tensor(\"truncated_normal:0\", shape=(4, 4), dtype=float32)\n"
     ]
    }
   ],
   "source": [
    "# noramal random woth certain bound\n",
    "# truncated_normal() function always \n",
    "# picks normal values within two standard deviations of the specified mean\n",
    "# 在指定平均值的两个标准偏差内选择正常值\n",
    "\n",
    "runnorm_tsr = tf.truncated_normal([4,4],mean=0.0,stddev=1.0)\n",
    "print(runnorm_tsr)\n"
   ]
  },
  {
   "cell_type": "code",
   "execution_count": 37,
   "metadata": {
    "collapsed": false
   },
   "outputs": [
    {
     "name": "stdout",
     "output_type": "stream",
     "text": [
      "Tensor(\"RandomShuffle_3:0\", shape=(4, 4), dtype=float32)\n"
     ]
    },
    {
     "data": {
      "text/plain": [
       "'not working'"
      ]
     },
     "execution_count": 37,
     "metadata": {},
     "output_type": "execute_result"
    }
   ],
   "source": [
    "# random entry of arrays\n",
    "\n",
    "# two functions: random_shuffle() and random_crop()\n",
    "# shuffled_output = tf.random_shuffle(input_tensor)\n",
    "\n",
    "shuffled_output = tf.random_shuffle(runnorm_tsr)\n",
    "print(shuffled_output)\n",
    "\n",
    "'''not working'''\n",
    "#cropped_output = tf.random_crop(input_tensor,crop_size)\n",
    "#cropped_output = tf.random_crop(runnorm_tsr,[1,2,3])\n",
    "#print(cropped_output)"
   ]
  },
  {
   "cell_type": "code",
   "execution_count": null,
   "metadata": {
    "collapsed": true
   },
   "outputs": [],
   "source": [
    "# random cropping an image of size (height,width,3)where there are three color spectrums\n",
    "# to fix a dimension in the cropped_output, give the maximum size\n",
    "\n",
    "cropped_image = tf.random_crop(my_image,[height/2,width/2,3])\n"
   ]
  },
  {
   "cell_type": "code",
   "execution_count": null,
   "metadata": {
    "collapsed": true
   },
   "outputs": [],
   "source": []
  },
  {
   "cell_type": "markdown",
   "metadata": {
    "collapsed": true
   },
   "source": [
    "\n",
    "# Using placeholders and Variables\n",
    "\n"
   ]
  },
  {
   "cell_type": "markdown",
   "metadata": {},
   "source": [
    "## create a Variable by using the Variable() function take a tensor as an inputn and outpurs a variable"
   ]
  },
  {
   "cell_type": "code",
   "execution_count": 39,
   "metadata": {
    "collapsed": true
   },
   "outputs": [],
   "source": [
    "\n",
    "\n",
    "my_var = tf.Variable(tf.zeros(2,3))\n",
    "sess = tf.Session()\n",
    "\n",
    "initialize_op = tf.global_variables_initializer()\n",
    "\n",
    "sess.run(initialize_op)\n"
   ]
  },
  {
   "cell_type": "markdown",
   "metadata": {},
   "source": [
    "### placeholders are just holding the position for data to be fed into the graph placeholders get data froom a feed_dict argument in the session to put a placeholder in the graph we must perform at least one operation on the placeholder\n",
    " we initilize the graph ,declear x to be a placeholder and define y as the identity operation on x which just return x  then we create data to feed into the x placeholder and run the identify operation\n"
   ]
  },
  {
   "cell_type": "code",
   "execution_count": 42,
   "metadata": {
    "collapsed": false
   },
   "outputs": [
    {
     "name": "stdout",
     "output_type": "stream",
     "text": [
      "[[ 0.48710287  0.47509735]\n",
      " [ 0.33764118  0.72502157]]\n"
     ]
    },
    {
     "data": {
      "text/plain": [
       "array([[ 0.48710287,  0.47509736],\n",
       "       [ 0.33764118,  0.7250216 ]], dtype=float32)"
      ]
     },
     "execution_count": 42,
     "metadata": {},
     "output_type": "execute_result"
    }
   ],
   "source": [
    "\n",
    "import numpy as np\n",
    "sess = tf.Session()\n",
    "\n",
    "x = tf.placeholder(tf.float32,shape=[2,2])\n",
    "y = tf.identity(x)\n",
    "x_vals = np.random.rand(2,2)\n",
    "print(x_vals)\n",
    "sess.run(y,feed_dict={x:x_vals})\n"
   ]
  },
  {
   "cell_type": "markdown",
   "metadata": {},
   "source": [
    "### initialize variables by order"
   ]
  },
  {
   "cell_type": "code",
   "execution_count": 46,
   "metadata": {
    "collapsed": false
   },
   "outputs": [],
   "source": [
    "\n",
    "\n",
    "sess = tf.Session()\n",
    "first_var = tf.Variable(tf.zeros([2,3]))\n",
    "sess.run(first_var.initializer)\n",
    "second_var = tf.Variable(tf.zeros_like(first_var))\n",
    "sess.run(second_var.initializer)"
   ]
  },
  {
   "cell_type": "code",
   "execution_count": 47,
   "metadata": {
    "collapsed": false
   },
   "outputs": [
    {
     "name": "stdout",
     "output_type": "stream",
     "text": [
      "Tensor(\"Variable_4/read:0\", shape=(2, 3), dtype=float32)\n",
      "Tensor(\"Variable_5/read:0\", shape=(2, 3), dtype=float32)\n"
     ]
    }
   ],
   "source": [
    "print(first_var)\n",
    "print(second_var)"
   ]
  },
  {
   "cell_type": "markdown",
   "metadata": {
    "collapsed": true
   },
   "source": [
    "\n",
    "# working with Matrices\n"
   ]
  },
  {
   "cell_type": "code",
   "execution_count": 1,
   "metadata": {
    "collapsed": true
   },
   "outputs": [],
   "source": [
    "import tensorflow as tf\n",
    "sess = tf.Session()"
   ]
  },
  {
   "cell_type": "markdown",
   "metadata": {},
   "source": [
    "## Create matrices"
   ]
  },
  {
   "cell_type": "code",
   "execution_count": 2,
   "metadata": {
    "collapsed": false
   },
   "outputs": [
    {
     "name": "stdout",
     "output_type": "stream",
     "text": [
      "[[ 1.  0.  0.]\n",
      " [ 0.  1.  0.]\n",
      " [ 0.  0.  1.]]\n",
      "[[ -6.44778714e+37   3.15118732e-29   8.15233434e-34]\n",
      " [  6.75814822e+16   1.39296411e-33   6.78552606e+16]]\n",
      "[[ 5.  5.  5.]\n",
      " [ 5.  5.  5.]]\n",
      "[[ -4.38748375e+37   2.91891591e-39]\n",
      " [  3.26205633e-33   6.75726861e+16]\n",
      " [  3.26262571e-33   6.75803827e+16]]\n",
      "[[ 1.  2.  3.]\n",
      " [-3. -4. -5.]\n",
      " [-3. -4. -5.]]\n"
     ]
    }
   ],
   "source": [
    "import numpy as np\n",
    "\n",
    "identify_matrix = tf.diag([1.0,1.0,1.0])\n",
    "\n",
    "A = tf.truncated_normal([2,3])\n",
    "\n",
    "B = tf.fill([2,3],5.0)\n",
    "\n",
    "C = tf.random_uniform([3,2])\n",
    "\n",
    "D = tf.convert_to_tensor(np.array([[1.,2.,3.],[-3.,-4.,-5.],[-3.,-4.,-5.]]))\n",
    "\n",
    "\n",
    "print(sess.run(identify_matrix))\n",
    "print(sess.run(A))\n",
    "print(sess.run(B))\n",
    "print(sess.run(C))\n",
    "print(sess.run(D))\n"
   ]
  },
  {
   "cell_type": "markdown",
   "metadata": {},
   "source": [
    "## transpose\n"
   ]
  },
  {
   "cell_type": "code",
   "execution_count": 3,
   "metadata": {
    "collapsed": false
   },
   "outputs": [
    {
     "name": "stdout",
     "output_type": "stream",
     "text": [
      "[[ -6.44778714e+37   2.06473298e-24]\n",
      " [  5.57297904e-33   6.78464645e+16]\n",
      " [  4.80260780e-33   6.75660890e+16]]\n",
      "[[ -6.58070994e+37   2.06514950e-24   1.39277309e-33]\n",
      " [  6.78376684e+16   1.20018028e-33   6.75572929e+16]]\n"
     ]
    }
   ],
   "source": [
    "print(sess.run(C))\n",
    "\n",
    "print(sess.run(tf.transpose(C)))"
   ]
  },
  {
   "cell_type": "markdown",
   "metadata": {},
   "source": [
    "## determinant"
   ]
  },
  {
   "cell_type": "code",
   "execution_count": 4,
   "metadata": {
    "collapsed": false
   },
   "outputs": [
    {
     "name": "stdout",
     "output_type": "stream",
     "text": [
      "[[ 1.  2.  3.]\n",
      " [-3. -4. -5.]\n",
      " [-3. -4. -5.]]\n",
      "0.0\n"
     ]
    }
   ],
   "source": [
    "print(sess.run(D))\n",
    "\n",
    "print(sess.run(tf.matrix_determinant(D)))"
   ]
  },
  {
   "cell_type": "code",
   "execution_count": 5,
   "metadata": {
    "collapsed": false
   },
   "outputs": [
    {
     "name": "stdout",
     "output_type": "stream",
     "text": [
      "[[ -6.58070994e+37   2.06514950e-24   5.57259701e-33]\n",
      " [  6.78376684e+16   4.80222577e-33   6.75572929e+16]]\n",
      "[[ -4.38748375e+37   2.91891591e-39   1.00758692e-33]\n",
      " [  6.78365689e+16   1.00763523e-33   6.75627905e+16]]\n",
      "[[ 5.  5.  5.]\n",
      " [ 5.  5.  5.]]\n",
      "[[ 1.  0.  0.]\n",
      " [ 0.  1.  0.]\n",
      " [ 0.  0.  1.]]\n"
     ]
    }
   ],
   "source": [
    "print(sess.run(A+B))\n",
    "\n",
    "print(sess.run(A-A))\n",
    "\n",
    "print(sess.run(B))\n",
    "print(sess.run(identify_matrix))\n",
    "\n",
    "#print(sess.run(tf.matmul(B,identify_matrix)))"
   ]
  },
  {
   "cell_type": "markdown",
   "metadata": {
    "collapsed": true
   },
   "source": [
    "## Cholesky decomposition 分解"
   ]
  },
  {
   "cell_type": "code",
   "execution_count": 7,
   "metadata": {
    "collapsed": false
   },
   "outputs": [
    {
     "name": "stdout",
     "output_type": "stream",
     "text": [
      "[[ 1.  0.  0.]\n",
      " [ 0.  1.  0.]\n",
      " [ 0.  0.  1.]]\n"
     ]
    }
   ],
   "source": [
    "print(sess.run(tf.cholesky(identify_matrix)))"
   ]
  },
  {
   "cell_type": "markdown",
   "metadata": {
    "collapsed": true
   },
   "source": [
    "## Eigenvalues and eigenvectors \n",
    "特征值和特征向量"
   ]
  },
  {
   "cell_type": "code",
   "execution_count": 9,
   "metadata": {
    "collapsed": false
   },
   "outputs": [
    {
     "name": "stdout",
     "output_type": "stream",
     "text": [
      "(array([-10.14150955,  -0.48757004,   2.62907959]), array([[ 0.35545039,  0.07070271, -0.93201724],\n",
      "       [ 0.62581312,  0.72264855,  0.29349106],\n",
      "       [ 0.69427153, -0.68759014,  0.21261903]]))\n"
     ]
    }
   ],
   "source": [
    "print(sess.run(tf.self_adjoint_eig(D)))"
   ]
  },
  {
   "cell_type": "markdown",
   "metadata": {
    "collapsed": true
   },
   "source": [
    "# Declearing Opeartions"
   ]
  },
  {
   "cell_type": "code",
   "execution_count": 1,
   "metadata": {
    "collapsed": true
   },
   "outputs": [],
   "source": [
    "import tensorflow as tf\n",
    "sess = tf.Session()"
   ]
  },
  {
   "cell_type": "code",
   "execution_count": 2,
   "metadata": {
    "collapsed": false
   },
   "outputs": [
    {
     "name": "stdout",
     "output_type": "stream",
     "text": [
      "0\n"
     ]
    }
   ],
   "source": [
    "print(sess.run(tf.div(3,4)))"
   ]
  },
  {
   "cell_type": "code",
   "execution_count": 10,
   "metadata": {
    "collapsed": false
   },
   "outputs": [
    {
     "name": "stdout",
     "output_type": "stream",
     "text": [
      "0.75\n",
      "-1.00680577424e+308\n"
     ]
    }
   ],
   "source": [
    "print(sess.run(tf.truediv(3.0,4.0)))\n",
    "print(sess.run(tf.truediv(3,4)))"
   ]
  },
  {
   "cell_type": "code",
   "execution_count": 11,
   "metadata": {
    "collapsed": false
   },
   "outputs": [
    {
     "name": "stdout",
     "output_type": "stream",
     "text": [
      "0\n",
      "0.0\n"
     ]
    }
   ],
   "source": [
    "print(sess.run(tf.floordiv(3,4)))\n",
    "print(sess.run(tf.floordiv(3.0,4.0)))\n"
   ]
  },
  {
   "cell_type": "code",
   "execution_count": 12,
   "metadata": {
    "collapsed": false
   },
   "outputs": [
    {
     "name": "stdout",
     "output_type": "stream",
     "text": [
      "2.0\n"
     ]
    }
   ],
   "source": [
    "print(sess.run(tf.mod(22.0, 5.0)))"
   ]
  },
  {
   "cell_type": "code",
   "execution_count": 13,
   "metadata": {
    "collapsed": false
   },
   "outputs": [
    {
     "name": "stdout",
     "output_type": "stream",
     "text": [
      "[ 0.  0.  1.]\n"
     ]
    }
   ],
   "source": [
    "print(sess.run(tf.cross([1., 0., 0.], [0., 1., 0.])))"
   ]
  },
  {
   "cell_type": "code",
   "execution_count": 14,
   "metadata": {
    "collapsed": false
   },
   "outputs": [
    {
     "name": "stdout",
     "output_type": "stream",
     "text": [
      "1.0\n"
     ]
    }
   ],
   "source": [
    "print(sess.run(tf.div(tf.sin(3.1416/4.), tf.cos(3.1416/4.))))"
   ]
  },
  {
   "cell_type": "code",
   "execution_count": 18,
   "metadata": {
    "collapsed": false
   },
   "outputs": [
    {
     "name": "stdout",
     "output_type": "stream",
     "text": [
      "362\n"
     ]
    }
   ],
   "source": [
    "## sub substrct\n",
    "\n",
    "def custom_polynomial(value):\n",
    "    return(tf.subtract(3 * tf.square(value), value) + 10)\n",
    "print(sess.run(custom_polynomial(11)))"
   ]
  },
  {
   "cell_type": "markdown",
   "metadata": {},
   "source": [
    "# implement activation function"
   ]
  },
  {
   "cell_type": "code",
   "execution_count": 19,
   "metadata": {
    "collapsed": true
   },
   "outputs": [],
   "source": [
    "import tensorflow as tf\n",
    "sess = tf.Session()"
   ]
  },
  {
   "cell_type": "markdown",
   "metadata": {},
   "source": [
    "## relu function"
   ]
  },
  {
   "cell_type": "markdown",
   "metadata": {},
   "source": [
    "max(0,x)"
   ]
  },
  {
   "cell_type": "code",
   "execution_count": 20,
   "metadata": {
    "collapsed": false
   },
   "outputs": [
    {
     "name": "stdout",
     "output_type": "stream",
     "text": [
      "[ 0  3 10]\n"
     ]
    }
   ],
   "source": [
    "print(sess.run(tf.nn.relu([-3,3,10])))"
   ]
  },
  {
   "cell_type": "markdown",
   "metadata": {},
   "source": [
    "## relu6 function\n",
    "### min(max(0,x),6)"
   ]
  },
  {
   "cell_type": "markdown",
   "metadata": {},
   "source": [
    "\n",
    "This is a version of the hard-sigmoid function and is\n",
    "computationally faster, and does not suffer from vanishing\n",
    "(infinitesimally near zero) or exploding values.\n",
    "这是一个硬Sigmoid函数的版本，计算速度更快，并且不会消失（无限大近零）或爆炸值。"
   ]
  },
  {
   "cell_type": "code",
   "execution_count": 23,
   "metadata": {
    "collapsed": false
   },
   "outputs": [
    {
     "name": "stdout",
     "output_type": "stream",
     "text": [
      "[0 3 6]\n"
     ]
    }
   ],
   "source": [
    "print(sess.run(tf.nn.relu6([-3,3,10])))"
   ]
  },
  {
   "cell_type": "markdown",
   "metadata": {},
   "source": [
    "## sigmoid function\n",
    "\n",
    "The sigmoid function is the most common continuous and smooth activation function. \n",
    "It is also called a logistic function and has the form\n",
    "#### 1/(1+exp(-x)). \n",
    "#### The sigmoid is not often used because of the tendencyto zero-out the back propagation terms during training\n",
    "由于在训练期间零背反向传播术语的倾向，S型并不经常被使用。"
   ]
  },
  {
   "cell_type": "code",
   "execution_count": 22,
   "metadata": {
    "collapsed": false
   },
   "outputs": [
    {
     "name": "stdout",
     "output_type": "stream",
     "text": [
      "[ 0.26894143  0.5         0.7310586 ]\n"
     ]
    }
   ],
   "source": [
    "print(sess.run(tf.nn.sigmoid([-1., 0., 1.])))"
   ]
  },
  {
   "cell_type": "markdown",
   "metadata": {
    "collapsed": true
   },
   "source": [
    "## hyper tangent function\n",
    "\n",
    "it has a range between -1 and 1 . \n",
    "The function has the form of the ratio of the hyperbolic sine over the hyperbolic cosine. But another way to write this is \n",
    "#### ((exp(x)-exp(- x))/(exp(x)+exp(-x))."
   ]
  },
  {
   "cell_type": "code",
   "execution_count": 24,
   "metadata": {
    "collapsed": false
   },
   "outputs": [
    {
     "name": "stdout",
     "output_type": "stream",
     "text": [
      "[-0.76159418  0.          0.76159418]\n"
     ]
    }
   ],
   "source": [
    "print(sess.run(tf.nn.tanh([-1., 0., 1.])))"
   ]
  },
  {
   "cell_type": "markdown",
   "metadata": {
    "collapsed": true
   },
   "source": [
    "### softsign\n",
    "x/(abs(x) + 1)\n",
    "The softsign function is supposed to be a continuous approximation to the sign function."
   ]
  },
  {
   "cell_type": "code",
   "execution_count": 26,
   "metadata": {
    "collapsed": false
   },
   "outputs": [
    {
     "name": "stdout",
     "output_type": "stream",
     "text": [
      "[-0.5  0.   0.5]\n"
     ]
    }
   ],
   "source": [
    "print(sess.run(tf.nn.softsign([-1., 0., 1.])))"
   ]
  },
  {
   "cell_type": "markdown",
   "metadata": {},
   "source": [
    "### softplus\n",
    "smooth version of the ReLU function. \n",
    "The form of this function is \n",
    "###### log(exp(x) + 1)"
   ]
  },
  {
   "cell_type": "code",
   "execution_count": 27,
   "metadata": {
    "collapsed": false
   },
   "outputs": [
    {
     "name": "stdout",
     "output_type": "stream",
     "text": [
      "[ 0.31326166  0.69314718  1.31326163]\n"
     ]
    }
   ],
   "source": [
    "print(sess.run(tf.nn.softplus([-1., 0., 1.])))"
   ]
  },
  {
   "cell_type": "markdown",
   "metadata": {},
   "source": [
    "###### The softplus goes to infinity as the input increases whereas the softsign goes to 1. \n",
    "######  As the input gets smaller, however, the softplus approaches zero and the softsign goes to -1."
   ]
  },
  {
   "cell_type": "markdown",
   "metadata": {},
   "source": [
    "## Exponential Linear Unit (ELU) \n",
    "very similar to the softplus function except that the bottom asymptote is -1 instead of 0 . \n",
    "##### (exp(x)+1) if x < 0        else x."
   ]
  },
  {
   "cell_type": "code",
   "execution_count": 28,
   "metadata": {
    "collapsed": false
   },
   "outputs": [
    {
     "name": "stdout",
     "output_type": "stream",
     "text": [
      "[-0.63212055  0.          1.        ]\n"
     ]
    }
   ],
   "source": [
    "print(sess.run(tf.nn.elu([-1., 0., 1.])))"
   ]
  },
  {
   "cell_type": "code",
   "execution_count": null,
   "metadata": {
    "collapsed": true
   },
   "outputs": [],
   "source": []
  },
  {
   "cell_type": "code",
   "execution_count": null,
   "metadata": {
    "collapsed": true
   },
   "outputs": [],
   "source": []
  },
  {
   "cell_type": "code",
   "execution_count": null,
   "metadata": {
    "collapsed": true
   },
   "outputs": [],
   "source": []
  }
 ],
 "metadata": {
  "kernelspec": {
   "display_name": "Python 3",
   "language": "python",
   "name": "python3"
  },
  "language_info": {
   "codemirror_mode": {
    "name": "ipython",
    "version": 3
   },
   "file_extension": ".py",
   "mimetype": "text/x-python",
   "name": "python",
   "nbconvert_exporter": "python",
   "pygments_lexer": "ipython3",
   "version": "3.6.0"
  }
 },
 "nbformat": 4,
 "nbformat_minor": 2
}
