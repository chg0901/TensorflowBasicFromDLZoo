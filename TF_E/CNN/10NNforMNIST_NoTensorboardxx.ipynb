{
 "cells": [
  {
   "cell_type": "code",
   "execution_count": 1,
   "metadata": {
    "collapsed": true
   },
   "outputs": [],
   "source": [
    "import tensorflow as tf\n",
    "import random\n",
    "import matplotlib.pyplot as plt\n",
    "\n",
    "from tensorflow.examples.tutorials.mnist import input_data"
   ]
  },
  {
   "cell_type": "code",
   "execution_count": 2,
   "metadata": {
    "collapsed": false
   },
   "outputs": [
    {
     "name": "stdout",
     "output_type": "stream",
     "text": [
      "Extracting MNIST_data/train-images-idx3-ubyte.gz\n",
      "Extracting MNIST_data/train-labels-idx1-ubyte.gz\n",
      "Extracting MNIST_data/t10k-images-idx3-ubyte.gz\n",
      "Extracting MNIST_data/t10k-labels-idx1-ubyte.gz\n"
     ]
    }
   ],
   "source": [
    "mnist = input_data.read_data_sets(\"MNIST_data/\",one_hot=True)\n",
    "\n",
    "# parameters\n",
    "learning_rate = 0.001\n",
    "training_epoches = 15\n",
    "batch_size = 100"
   ]
  },
  {
   "cell_type": "code",
   "execution_count": 3,
   "metadata": {
    "collapsed": false
   },
   "outputs": [],
   "source": [
    "X = tf.placeholder(tf.float32,[None, 784])\n",
    "Y = tf.placeholder(tf.float32,[None, 10])\n",
    "\n",
    "\n",
    "with tf.name_scope('layer1') as scope:\n",
    "    \n",
    "    W1 = tf.get_variable(\"WW1\",shape=[784,256],initializer=tf.contrib.layers.xavier_initializer())\n",
    "    b1 = tf.Variable(tf.random_normal([256]))\n",
    "    L1 = tf.nn.relu(tf.matmul(X,W1) + b1)\n",
    "    \n",
    "    w1_hist = tf.summary.histogram(\"weights1\",W1)\n",
    "    b1_hist = tf.summary.histogram(\"biases1\",b1)\n",
    "    l1_hist = tf.summary.histogram(\"layer1\",L1)\n",
    "\n",
    "    \n",
    "with tf.name_scope('layer2') as scope:\n",
    "    \n",
    "    W2 = tf.get_variable(\"WW2\",shape=[256,256],initializer=tf.contrib.layers.xavier_initializer())\n",
    "    b2 = tf.Variable(tf.random_normal([256]))\n",
    "    L2 = tf.nn.relu(tf.matmul(L1,W2) + b2)\n",
    "    \n",
    "    w2_hist = tf.summary.histogram(\"weights1\",W2)\n",
    "    b2_hist = tf.summary.histogram(\"biases1\",b2)\n",
    "    l2_hist = tf.summary.histogram(\"layer1\",L2)\n",
    "\n",
    "    \n",
    "with tf.name_scope('layer3') as scope:\n",
    "    \n",
    "    W3 = tf.get_variable(\"WW3\",shape=[256,10],initializer=tf.contrib.layers.xavier_initializer())\n",
    "    b3 = tf.Variable(tf.random_normal([10]))\n",
    "    hypothesis = tf.matmul(L2,W3) + b3\n",
    "    \n",
    "    w3_hist = tf.summary.histogram(\"weights1\",W3)\n",
    "    b3_hist = tf.summary.histogram(\"biases1\",b3)\n",
    "    hypothesis_hist = tf.summary.histogram(\"hypothesis\",hypothesis)"
   ]
  },
  {
   "cell_type": "code",
   "execution_count": 4,
   "metadata": {
    "collapsed": true
   },
   "outputs": [],
   "source": [
    "with tf.name_scope(\"cost\") as scope:\n",
    "    cost = tf.reduce_mean(tf.nn.softmax_cross_entropy_with_logits(\n",
    "        logits=hypothesis,labels=Y))\n",
    "    cost_summ = tf.summary.scalar(\"cost\",cost)\n",
    "\n",
    "with tf.name_scope(\"train\") as scope:\n",
    "    optimizer = tf.train.AdamOptimizer(\n",
    "        learning_rate=learning_rate).minimize(cost)\n",
    "    #correct_prediction = tf.equal(tf.argmax(hypothesis,1),tf.argmax(Y,1))\n",
    "    #accuracy = tf.reduce_mean(tf.cast(correct_prediction,tf.float32))\n",
    "    #accuracy_summ = tf.summary.scalar(\"accuracy\",accuracy)\n",
    "\n",
    "    "
   ]
  },
  {
   "cell_type": "code",
   "execution_count": 11,
   "metadata": {
    "collapsed": false
   },
   "outputs": [
    {
     "name": "stdout",
     "output_type": "stream",
     "text": [
      "Epoch: 0001 cost =  0.293717018\n",
      "Epoch: 0002 cost =  0.11855383\n",
      "Epoch: 0003 cost =  0.0749959621\n",
      "Epoch: 0004 cost =  0.0549278584\n",
      "Epoch: 0005 cost =  0.0415176325\n",
      "Epoch: 0006 cost =  0.0292628476\n",
      "Epoch: 0007 cost =  0.0231516469\n",
      "Epoch: 0008 cost =  0.0205473981\n",
      "Epoch: 0009 cost =  0.0166179908\n",
      "Epoch: 0010 cost =  0.013189529\n",
      "Epoch: 0011 cost =  0.0145714562\n",
      "Epoch: 0012 cost =  0.0158116069\n",
      "Epoch: 0013 cost =  0.0105776942\n",
      "Epoch: 0014 cost =  0.00776165015\n",
      "Epoch: 0015 cost =  0.00886029471\n",
      "\n",
      "Learning finished!\n",
      "\n"
     ]
    }
   ],
   "source": [
    "sess = tf.Session()\n",
    "\n",
    "merged_summery = tf.summary.merge_all()\n",
    "writer = tf.summary.FileWriter(\"./logsForMNIST/logs_r0_001_X\")\n",
    "writer.add_graph(sess.graph)\n",
    "\n",
    "sess.run(tf.global_variables_initializer())\n",
    "\n",
    "for epoch in range(training_epoches):\n",
    "    avg_cost = 0\n",
    "    total_batch = int(mnist.train.num_examples / batch_size)\n",
    "    \n",
    "    for i in range(total_batch):\n",
    "        batch_xs, batch_ys = mnist.train.next_batch(batch_size)\n",
    "        feed_dict = {X: batch_xs,Y: batch_ys}\n",
    "        summery, c, _ = sess.run([merged_summery, cost, optimizer],feed_dict=feed_dict)\n",
    "        writer.add_summary(summery,global_step=epoch*total_batch+i)\n",
    "        \n",
    "        avg_cost += c / total_batch\n",
    "            \n",
    "    print('Epoch:','%04d'%(epoch+1),'cost = ','{:.09}'.format(avg_cost)) ## error{}\n",
    "print('\\nLearning finished!\\n')  \n"
   ]
  },
  {
   "cell_type": "markdown",
   "metadata": {},
   "source": [
    "### test model and check accuracy"
   ]
  },
  {
   "cell_type": "code",
   "execution_count": 12,
   "metadata": {
    "collapsed": false
   },
   "outputs": [
    {
     "name": "stdout",
     "output_type": "stream",
     "text": [
      "Accuracy: 0.9788\n"
     ]
    }
   ],
   "source": [
    "correct_prediction = tf.equal(tf.argmax(hypothesis,1),tf.argmax(Y,1))\n",
    "accruacy = tf.reduce_mean(tf.cast(correct_prediction,tf.float32))\n",
    "print('Accuracy:',sess.run(accruacy,feed_dict={X: mnist.test.images, \n",
    "                                             Y: mnist.test.labels}))"
   ]
  },
  {
   "cell_type": "markdown",
   "metadata": {},
   "source": [
    "### get one picture, predict then draw a picture"
   ]
  },
  {
   "cell_type": "code",
   "execution_count": 13,
   "metadata": {
    "collapsed": false
   },
   "outputs": [
    {
     "name": "stdout",
     "output_type": "stream",
     "text": [
      "Label: [3]\n",
      "Prediction: [3]\n"
     ]
    }
   ],
   "source": [
    "r = random.randint(0,mnist.test.num_examples - 1)\n",
    "mnist_test = mnist.test\n",
    "label = mnist_test.labels[r:r+1]\n",
    "image = mnist_test.images[r:r+1]\n",
    "print(\"Label:\", sess.run(tf.argmax(label,1)))\n",
    "print(\"Prediction:\",sess.run(\n",
    "      tf.argmax(hypothesis,1),feed_dict={X:image}))"
   ]
  },
  {
   "cell_type": "code",
   "execution_count": 14,
   "metadata": {
    "collapsed": false
   },
   "outputs": [
    {
     "data": {
      "image/png": "[encoded data removed]",
      "text/plain": [
       "<matplotlib.figure.Figure at 0x7f53d9c11630>"
      ]
     },
     "metadata": {},
     "output_type": "display_data"
    }
   ],
   "source": [
    "plt.imshow(image.reshape(28,28),cmap='Greys',interpolation='nearest')\n",
    "plt.show()"
   ]
  },
  {
   "cell_type": "code",
   "execution_count": null,
   "metadata": {
    "collapsed": true
   },
   "outputs": [],
   "source": []
  },
  {
   "cell_type": "code",
   "execution_count": 6,
   "metadata": {
    "collapsed": false
   },
   "outputs": [
    {
     "name": "stdout",
     "output_type": "stream",
     "text": [
      "0\n"
     ]
    }
   ],
   "source": [
    "x = range(0,10)\n",
    "print(x.start)\n"
   ]
  },
  {
   "cell_type": "code",
   "execution_count": null,
   "metadata": {
    "collapsed": true
   },
   "outputs": [],
   "source": []
  },
  {
   "cell_type": "code",
   "execution_count": null,
   "metadata": {
    "collapsed": true
   },
   "outputs": [],
   "source": []
  },
  {
   "cell_type": "code",
   "execution_count": null,
   "metadata": {
    "collapsed": true
   },
   "outputs": [],
   "source": []
  },
  {
   "cell_type": "code",
   "execution_count": null,
   "metadata": {
    "collapsed": true
   },
   "outputs": [],
   "source": []
  },
  {
   "cell_type": "code",
   "execution_count": null,
   "metadata": {
    "collapsed": true
   },
   "outputs": [],
   "source": []
  }
 ],
 "metadata": {
  "kernelspec": {
   "display_name": "Python 3",
   "language": "python",
   "name": "python3"
  },
  "language_info": {
   "codemirror_mode": {
    "name": "ipython",
    "version": 3
   },
   "file_extension": ".py",
   "mimetype": "text/x-python",
   "name": "python",
   "nbconvert_exporter": "python",
   "pygments_lexer": "ipython3",
   "version": "3.6.0"
  }
 },
 "nbformat": 4,
 "nbformat_minor": 2
}
