{
 "cells": [
  {
   "cell_type": "markdown",
   "metadata": {},
   "source": [
    "# import tensorflow "
   ]
  },
  {
   "cell_type": "code",
   "execution_count": 1,
   "metadata": {
    "collapsed": true
   },
   "outputs": [],
   "source": [
    "import tensorflow as tf\n",
    "import numpy as np"
   ]
  },
  {
   "cell_type": "markdown",
   "metadata": {},
   "source": [
    "# get the data\n"
   ]
  },
  {
   "cell_type": "code",
   "execution_count": 2,
   "metadata": {
    "collapsed": false
   },
   "outputs": [
    {
     "name": "stdout",
     "output_type": "stream",
     "text": [
      "Extracting MNIST_data/train-images-idx3-ubyte.gz\n",
      "Extracting MNIST_data/train-labels-idx1-ubyte.gz\n",
      "Extracting MNIST_data/t10k-images-idx3-ubyte.gz\n",
      "Extracting MNIST_data/t10k-labels-idx1-ubyte.gz\n"
     ]
    }
   ],
   "source": [
    "# if there is no \"MNIST_data/\" then download \n",
    "from tensorflow.examples.tutorials.mnist import input_data\n",
    "# extract and read the mnist data\n",
    "mnist = input_data.read_data_sets(\"MNIST_data/\",one_hot=True)\n"
   ]
  },
  {
   "cell_type": "markdown",
   "metadata": {},
   "source": [
    "# set variables"
   ]
  },
  {
   "cell_type": "code",
   "execution_count": 3,
   "metadata": {
    "collapsed": false
   },
   "outputs": [],
   "source": [
    "nb_class = 10\n",
    "\n",
    "# MNIST data image of shape 28 * 28 = 784\n",
    "X = tf.placeholder(tf.float32,[None,784])\n",
    "# 0-9 digits recognition = 10 classes\n",
    "Y = tf.placeholder(tf.float32,[None, nb_class])\n",
    "\n",
    "W = tf.Variable(tf.random_normal([784,nb_class]))\n",
    "b = tf.Variable(tf.random_normal([nb_class]))  \n"
   ]
  },
  {
   "cell_type": "markdown",
   "metadata": {},
   "source": [
    "# softmax for the linear regression"
   ]
  },
  {
   "cell_type": "code",
   "execution_count": 4,
   "metadata": {
    "collapsed": false
   },
   "outputs": [],
   "source": [
    "# Hypothesis (using softmax)\n",
    "hypothesis = tf.nn.softmax(tf.matmul(X,W)+b)\n",
    "\n",
    "cost = tf.reduce_mean(-tf.reduce_sum(Y * tf.log(hypothesis),axis = 1))\n",
    "optimizer = tf.train.GradientDescentOptimizer(\n",
    "    learning_rate=0.1).minimize(cost)\n",
    "\n",
    "# test model   \n",
    "# now the argmax <== arg_max, get the index of max value\n",
    "is_correct = tf.equal(tf.arg_max(hypothesis,1),tf.argmax(Y,1))\n",
    "# Caculate accruracy\n",
    "accuracy = tf.reduce_mean(tf.cast(is_correct,tf.float32))\n"
   ]
  },
  {
   "cell_type": "markdown",
   "metadata": {},
   "source": [
    "# training epoch/batch"
   ]
  },
  {
   "cell_type": "code",
   "execution_count": 5,
   "metadata": {
    "collapsed": false,
    "scrolled": true
   },
   "outputs": [
    {
     "name": "stdout",
     "output_type": "stream",
     "text": [
      "Epoch: 0001 cost= 2.672227400\n",
      "Epoch: 0002 cost= 1.073593106\n",
      "Epoch: 0003 cost= 0.851961366\n",
      "Epoch: 0004 cost= 0.743894721\n",
      "Epoch: 0005 cost= 0.675093191\n",
      "Epoch: 0006 cost= 0.627537878\n",
      "Epoch: 0007 cost= 0.591659550\n",
      "Epoch: 0008 cost= 0.562569443\n",
      "Epoch: 0009 cost= 0.539346324\n",
      "Epoch: 0010 cost= 0.519420071\n",
      "Epoch: 0011 cost= 0.503253684\n",
      "Epoch: 0012 cost= 0.488176104\n",
      "Epoch: 0013 cost= 0.475019434\n",
      "Epoch: 0014 cost= 0.464625835\n",
      "Epoch: 0015 cost= 0.454626297\n",
      "Learning finished\n",
      "old_Accuracy:  0.8919\n",
      "new_Accuracy: 0.8919\n",
      "Label: [5]\n",
      "Prediction: [3]\n"
     ]
    },
    {
     "data": {
      "image/png": "[encoded data removed]",
      "text/plain": [
       "<matplotlib.figure.Figure at 0x7fe81b3b4198>"
      ]
     },
     "metadata": {},
     "output_type": "display_data"
    }
   ],
   "source": [
    "# parameters\n",
    "training_epoches = 15\n",
    "batch_size = 100\n",
    "\n",
    "with tf.Session() as sess:\n",
    "    # initialize Tensorflow Variables\n",
    "    sess.run(tf.global_variables_initializer())\n",
    "    # training cycles\n",
    "    for epoch in range(training_epoches):\n",
    "        avg_cast = 0\n",
    "        total_batch = int(mnist.train.num_examples/batch_size)\n",
    "        \n",
    "        for i in range(total_batch):\n",
    "            batch_xs,batch_ys = mnist.train.next_batch(batch_size)\n",
    "            c,_ = sess.run([cost,optimizer]\n",
    "                           ,feed_dict={X:batch_xs,Y:batch_ys})\n",
    "            avg_cast += c / total_batch\n",
    "            \n",
    "        print(\"Epoch:\",'%04d'%(epoch+1)\n",
    "              ,'cost=','{:.9f}'.format(avg_cast))\n",
    "    \n",
    "    print(\"Learning finished\")\n",
    "\n",
    "    # Test the model using test sets\n",
    "    print(\"old_Accuracy: \", accuracy.eval(session=sess, feed_dict={\n",
    "          X: mnist.test.images, Y: mnist.test.labels}))\n",
    "    print('new_Accuracy:',sess.run(accuracy,feed_dict={\n",
    "        X: mnist.test.images, Y: mnist.test.labels}))\n",
    "    \n",
    "    # Sample image show and prediction\n",
    "    import matplotlib.pyplot as plt\n",
    "    import random\n",
    "\n",
    "\n",
    "    # Get one and predict\n",
    "    r = random.randint(0,mnist.test.num_examples -1 )\n",
    "    print(\"Label:\",sess.run(tf.arg_max(mnist.test.labels[r:r+1],1)))\n",
    "    print(\"Prediction:\",sess.run(tf.arg_max(hypothesis,1),\n",
    "          feed_dict={X:mnist.test.images[r:r+1]}))\n",
    "\n",
    "    plt.imshow(mnist.test.images[r:r+1].reshape(28,28),\n",
    "               cmap='Greys',interpolation='nearest')\n",
    "    plt.show()\n",
    "\n",
    "\n",
    " "
   ]
  },
  {
   "cell_type": "code",
   "execution_count": null,
   "metadata": {
    "collapsed": true
   },
   "outputs": [],
   "source": []
  },
  {
   "cell_type": "code",
   "execution_count": null,
   "metadata": {
    "collapsed": true
   },
   "outputs": [],
   "source": []
  },
  {
   "cell_type": "code",
   "execution_count": null,
   "metadata": {
    "collapsed": true
   },
   "outputs": [],
   "source": []
  },
  {
   "cell_type": "code",
   "execution_count": null,
   "metadata": {
    "collapsed": true
   },
   "outputs": [],
   "source": []
  },
  {
   "cell_type": "code",
   "execution_count": null,
   "metadata": {
    "collapsed": true
   },
   "outputs": [],
   "source": []
  },
  {
   "cell_type": "code",
   "execution_count": null,
   "metadata": {
    "collapsed": true
   },
   "outputs": [],
   "source": []
  },
  {
   "cell_type": "code",
   "execution_count": null,
   "metadata": {
    "collapsed": true
   },
   "outputs": [],
   "source": []
  },
  {
   "cell_type": "code",
   "execution_count": null,
   "metadata": {
    "collapsed": true
   },
   "outputs": [],
   "source": []
  },
  {
   "cell_type": "code",
   "execution_count": null,
   "metadata": {
    "collapsed": true
   },
   "outputs": [],
   "source": []
  }
 ],
 "metadata": {
  "kernelspec": {
   "display_name": "Python 3",
   "language": "python",
   "name": "python3"
  },
  "language_info": {
   "codemirror_mode": {
    "name": "ipython",
    "version": 3
   },
   "file_extension": ".py",
   "mimetype": "text/x-python",
   "name": "python",
   "nbconvert_exporter": "python",
   "pygments_lexer": "ipython3",
   "version": "3.6.0"
  }
 },
 "nbformat": 4,
 "nbformat_minor": 2
}
