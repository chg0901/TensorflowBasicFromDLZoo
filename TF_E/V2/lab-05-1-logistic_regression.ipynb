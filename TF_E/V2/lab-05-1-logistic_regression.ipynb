{
 "cells": [
  {
   "cell_type": "markdown",
   "metadata": {},
   "source": [
    "# Training data\n"
   ]
  },
  {
   "cell_type": "code",
   "execution_count": 1,
   "metadata": {
    "collapsed": true
   },
   "outputs": [],
   "source": [
    "import tensorflow as tf"
   ]
  },
  {
   "cell_type": "code",
   "execution_count": 2,
   "metadata": {
    "collapsed": true
   },
   "outputs": [],
   "source": [
    "x_data = [[1, 2], [2, 3], [3, 1], [4, 3], [5, 3], [6, 2]]\n",
    "y_data = [[0], [0], [0], [1], [1], [1]]\n",
    "\n",
    "# placeholders for a tensor that will be always fed.\n",
    "X = tf.placeholder(tf.float32, shape=[None, 2])\n",
    "Y = tf.placeholder(tf.float32, shape=[None, 1])"
   ]
  },
  {
   "cell_type": "code",
   "execution_count": 3,
   "metadata": {
    "collapsed": true
   },
   "outputs": [],
   "source": [
    "\n",
    "W = tf.Variable(tf.random_normal([2, 1]), name='weight')\n",
    "b = tf.Variable(tf.random_normal([1]), name='bias')\n",
    "\n",
    "# Hypothesis using sigmoid: tf.div(1., 1. + tf.exp(tf.matmul(X, W) + b))\n",
    "hypothesis = tf.sigmoid(tf.matmul(X, W) + b)\n",
    "\n",
    "# cost/loss function\n",
    "cost = -tf.reduce_mean(Y * tf.log(hypothesis) + (1 - Y) *\n",
    "                      tf.log(1 - hypothesis))\n",
    "\n",
    "train = tf.train.GradientDescentOptimizer(learning_rate=0.01).minimize(cost)\n"
   ]
  },
  {
   "cell_type": "markdown",
   "metadata": {},
   "source": [
    "# Accuracy computation"
   ]
  },
  {
   "cell_type": "code",
   "execution_count": 4,
   "metadata": {
    "collapsed": true
   },
   "outputs": [],
   "source": [
    "# True if hypothesis>0.5 else False\n",
    "predicted = tf.cast(hypothesis > 0.5, dtype=tf.float32)\n",
    "accuracy = tf.reduce_mean(tf.cast(tf.equal(predicted, Y), dtype=tf.float32))\n"
   ]
  },
  {
   "cell_type": "markdown",
   "metadata": {},
   "source": [
    "# Train the model"
   ]
  },
  {
   "cell_type": "code",
   "execution_count": 6,
   "metadata": {
    "collapsed": false
   },
   "outputs": [
    {
     "name": "stdout",
     "output_type": "stream",
     "text": [
      "step\t cost\n",
      "0 \t  5.73169\n",
      "200 \t  0.643693\n",
      "400 \t  0.564145\n",
      "600 \t  0.521417\n",
      "800 \t  0.493015\n",
      "1000 \t  0.471043\n",
      "1200 \t  0.452397\n",
      "1400 \t  0.435726\n",
      "1600 \t  0.420389\n",
      "1800 \t  0.406063\n",
      "2000 \t  0.392568\n",
      "2200 \t  0.379801\n",
      "2400 \t  0.367692\n",
      "2600 \t  0.356192\n",
      "2800 \t  0.345261\n",
      "3000 \t  0.334866\n",
      "3200 \t  0.324976\n",
      "3400 \t  0.315563\n",
      "3600 \t  0.306602\n",
      "3800 \t  0.298066\n",
      "4000 \t  0.289933\n",
      "4200 \t  0.28218\n",
      "4400 \t  0.274785\n",
      "4600 \t  0.267728\n",
      "4800 \t  0.260991\n",
      "5000 \t  0.254555\n",
      "5200 \t  0.248402\n",
      "5400 \t  0.242518\n",
      "5600 \t  0.236886\n",
      "5800 \t  0.231494\n",
      "6000 \t  0.226327\n",
      "6200 \t  0.221373\n",
      "6400 \t  0.21662\n",
      "6600 \t  0.212058\n",
      "6800 \t  0.207676\n",
      "7000 \t  0.203465\n",
      "7200 \t  0.199415\n",
      "7400 \t  0.195518\n",
      "7600 \t  0.191766\n",
      "7800 \t  0.188152\n",
      "8000 \t  0.184669\n",
      "8200 \t  0.18131\n",
      "8400 \t  0.178068\n",
      "8600 \t  0.174939\n",
      "8800 \t  0.171917\n",
      "9000 \t  0.168996\n",
      "9200 \t  0.166172\n",
      "9400 \t  0.16344\n",
      "9600 \t  0.160796\n",
      "9800 \t  0.158236\n",
      "10000 \t  0.155756\n",
      "\n",
      "Hypothesis:  [[ 0.03341727]\n",
      " [ 0.16232355]\n",
      " [ 0.31742978]\n",
      " [ 0.77570081]\n",
      " [ 0.93593806]\n",
      " [ 0.97895598]] \n",
      "Correct (Y):  [[ 0.]\n",
      " [ 0.]\n",
      " [ 0.]\n",
      " [ 1.]\n",
      " [ 1.]\n",
      " [ 1.]] \n",
      "Accuracy:  1.0\n"
     ]
    }
   ],
   "source": [
    "# Launch graph\n",
    "with tf.Session() as sess:\n",
    "    # Initialize TensorFlow variables\n",
    "    sess.run(tf.global_variables_initializer())\n",
    "    \n",
    "    # add this comment\n",
    "    print(\"step\\t cost\")\n",
    "    \n",
    "    for step in range(10001):\n",
    "        cost_val, _ = sess.run([cost, train], feed_dict={X: x_data, Y: y_data})\n",
    "        if step % 200 == 0:\n",
    "            print(step,\"\\t \", cost_val)\n",
    "\n",
    "    # Accuracy report\n",
    "    h, c, a = sess.run([hypothesis, predicted, accuracy],\n",
    "                      feed_dict={X: x_data, Y: y_data})\n",
    "    print(\"\\nHypothesis: \", h, \"\\nCorrect (Y): \", c, \"\\nAccuracy: \", a)\n"
   ]
  },
  {
   "cell_type": "markdown",
   "metadata": {},
   "source": [
    "# Fullly code"
   ]
  },
  {
   "cell_type": "code",
   "execution_count": 8,
   "metadata": {
    "collapsed": false
   },
   "outputs": [
    {
     "name": "stdout",
     "output_type": "stream",
     "text": [
      "step\t cost\n",
      "0 \t  1.72397\n",
      "200 \t  0.505059\n",
      "400 \t  0.459175\n",
      "600 \t  0.431478\n",
      "800 \t  0.41148\n",
      "1000 \t  0.395237\n",
      "1200 \t  0.38109\n",
      "1400 \t  0.368275\n",
      "1600 \t  0.356411\n",
      "1800 \t  0.345294\n",
      "2000 \t  0.334806\n",
      "2200 \t  0.324872\n",
      "2400 \t  0.315441\n",
      "2600 \t  0.306475\n",
      "2800 \t  0.297941\n",
      "3000 \t  0.289813\n",
      "3200 \t  0.282065\n",
      "3400 \t  0.274677\n",
      "3600 \t  0.267626\n",
      "3800 \t  0.260894\n",
      "4000 \t  0.254463\n",
      "4200 \t  0.248316\n",
      "4400 \t  0.242436\n",
      "4600 \t  0.236808\n",
      "4800 \t  0.231419\n",
      "5000 \t  0.226256\n",
      "5200 \t  0.221305\n",
      "5400 \t  0.216555\n",
      "5600 \t  0.211996\n",
      "5800 \t  0.207616\n",
      "6000 \t  0.203407\n",
      "6200 \t  0.19936\n",
      "6400 \t  0.195465\n",
      "6600 \t  0.191715\n",
      "6800 \t  0.188103\n",
      "7000 \t  0.184621\n",
      "7200 \t  0.181264\n",
      "7400 \t  0.178024\n",
      "7600 \t  0.174897\n",
      "7800 \t  0.171876\n",
      "8000 \t  0.168956\n",
      "8200 \t  0.166133\n",
      "8400 \t  0.163403\n",
      "8600 \t  0.16076\n",
      "8800 \t  0.158201\n",
      "9000 \t  0.155723\n",
      "9200 \t  0.15332\n",
      "9400 \t  0.150991\n",
      "9600 \t  0.148732\n",
      "9800 \t  0.14654\n",
      "10000 \t  0.144412\n",
      "\n",
      "Hypothesis:  [[ 0.02863096]\n",
      " [ 0.15588605]\n",
      " [ 0.2946102 ]\n",
      " [ 0.78610778]\n",
      " [ 0.94251418]\n",
      " [ 0.98115975]] \n",
      "Correct (Y):  [[ 0.]\n",
      " [ 0.]\n",
      " [ 0.]\n",
      " [ 1.]\n",
      " [ 1.]\n",
      " [ 1.]] \n",
      "Accuracy:  1.0\n"
     ]
    }
   ],
   "source": [
    "x_data = [[1, 2], [2, 3], [3, 1], [4, 3], [5, 3], [6, 2]] \n",
    "y_data = [[0], [0], [0], [1], [1], [1]]\n",
    "# placeholders for a tensor that will be always fed.\n",
    "X = tf.placeholder(tf.float32, shape=[None, 2])\n",
    "Y = tf.placeholder(tf.float32, shape=[None, 1])\n",
    "\n",
    "W = tf.Variable(tf.random_normal([2, 1]), name='weight')\n",
    "b = tf.Variable(tf.random_normal([1]), name='bias')\n",
    "# Hypothesis using sigmoid: tf.div(1., 1. + tf.exp(tf.matmul(X, W)))\n",
    "hypothesis = tf.sigmoid(tf.matmul(X, W) + b)\n",
    "# cost/loss function\n",
    "cost = -tf.reduce_mean(Y * tf.log(hypothesis) + (1 - Y) * tf.log(1 - hypothesis))\n",
    "train = tf.train.GradientDescentOptimizer(learning_rate=0.01).minimize(cost)\n",
    "\n",
    "# Accuracy computation\n",
    "# True if hypothesis>0.5 else False\n",
    "predicted = tf.cast(hypothesis > 0.5, dtype=tf.float32)\n",
    "accuracy = tf.reduce_mean(tf.cast(tf.equal(predicted, Y), dtype=tf.float32))\n",
    "\n",
    "# Launch graph\n",
    "with tf.Session() as sess:\n",
    "    # Initialize TensorFlow variables\n",
    "    sess.run(tf.global_variables_initializer())\n",
    "\n",
    "    # add this comment\n",
    "    print(\"step\\t cost\")\n",
    "    \n",
    "    for step in range(10001):\n",
    "        cost_val, _ = sess.run([cost, train], feed_dict={X: x_data, Y: y_data})\n",
    "        if step % 200 == 0:\n",
    "            print(step,\"\\t \", cost_val)\n",
    "\n",
    "    # Accuracy report\n",
    "    h, c, a = sess.run([hypothesis, predicted, accuracy],\n",
    "                      feed_dict={X: x_data, Y: y_data})\n",
    "    print(\"\\nHypothesis: \", h, \"\\nCorrect (Y): \", c, \"\\nAccuracy: \", a)\n"
   ]
  },
  {
   "cell_type": "code",
   "execution_count": null,
   "metadata": {
    "collapsed": true
   },
   "outputs": [],
   "source": []
  }
 ],
 "metadata": {
  "kernelspec": {
   "display_name": "Python 3",
   "language": "python",
   "name": "python3"
  },
  "language_info": {
   "codemirror_mode": {
    "name": "ipython",
    "version": 3
   },
   "file_extension": ".py",
   "mimetype": "text/x-python",
   "name": "python",
   "nbconvert_exporter": "python",
   "pygments_lexer": "ipython3",
   "version": "3.6.0"
  }
 },
 "nbformat": 4,
 "nbformat_minor": 2
}
