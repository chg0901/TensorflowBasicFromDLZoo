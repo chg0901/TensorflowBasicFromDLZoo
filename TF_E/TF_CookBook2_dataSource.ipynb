{
 "cells": [
  {
   "cell_type": "markdown",
   "metadata": {},
   "source": [
    "# Iris data"
   ]
  },
  {
   "cell_type": "code",
   "execution_count": 2,
   "metadata": {
    "collapsed": false
   },
   "outputs": [
    {
     "name": "stdout",
     "output_type": "stream",
     "text": [
      "150\n",
      "150\n",
      "{'data': array([[ 5.1,  3.5,  1.4,  0.2],\n",
      "       [ 4.9,  3. ,  1.4,  0.2],\n",
      "       [ 4.7,  3.2,  1.3,  0.2],\n",
      "       [ 4.6,  3.1,  1.5,  0.2],\n",
      "       [ 5. ,  3.6,  1.4,  0.2],\n",
      "       [ 5.4,  3.9,  1.7,  0.4],\n",
      "       [ 4.6,  3.4,  1.4,  0.3],\n",
      "       [ 5. ,  3.4,  1.5,  0.2],\n",
      "       [ 4.4,  2.9,  1.4,  0.2],\n",
      "       [ 4.9,  3.1,  1.5,  0.1],\n",
      "       [ 5.4,  3.7,  1.5,  0.2],\n",
      "       [ 4.8,  3.4,  1.6,  0.2],\n",
      "       [ 4.8,  3. ,  1.4,  0.1],\n",
      "       [ 4.3,  3. ,  1.1,  0.1],\n",
      "       [ 5.8,  4. ,  1.2,  0.2],\n",
      "       [ 5.7,  4.4,  1.5,  0.4],\n",
      "       [ 5.4,  3.9,  1.3,  0.4],\n",
      "       [ 5.1,  3.5,  1.4,  0.3],\n",
      "       [ 5.7,  3.8,  1.7,  0.3],\n",
      "       [ 5.1,  3.8,  1.5,  0.3],\n",
      "       [ 5.4,  3.4,  1.7,  0.2],\n",
      "       [ 5.1,  3.7,  1.5,  0.4],\n",
      "       [ 4.6,  3.6,  1. ,  0.2],\n",
      "       [ 5.1,  3.3,  1.7,  0.5],\n",
      "       [ 4.8,  3.4,  1.9,  0.2],\n",
      "       [ 5. ,  3. ,  1.6,  0.2],\n",
      "       [ 5. ,  3.4,  1.6,  0.4],\n",
      "       [ 5.2,  3.5,  1.5,  0.2],\n",
      "       [ 5.2,  3.4,  1.4,  0.2],\n",
      "       [ 4.7,  3.2,  1.6,  0.2],\n",
      "       [ 4.8,  3.1,  1.6,  0.2],\n",
      "       [ 5.4,  3.4,  1.5,  0.4],\n",
      "       [ 5.2,  4.1,  1.5,  0.1],\n",
      "       [ 5.5,  4.2,  1.4,  0.2],\n",
      "       [ 4.9,  3.1,  1.5,  0.1],\n",
      "       [ 5. ,  3.2,  1.2,  0.2],\n",
      "       [ 5.5,  3.5,  1.3,  0.2],\n",
      "       [ 4.9,  3.1,  1.5,  0.1],\n",
      "       [ 4.4,  3. ,  1.3,  0.2],\n",
      "       [ 5.1,  3.4,  1.5,  0.2],\n",
      "       [ 5. ,  3.5,  1.3,  0.3],\n",
      "       [ 4.5,  2.3,  1.3,  0.3],\n",
      "       [ 4.4,  3.2,  1.3,  0.2],\n",
      "       [ 5. ,  3.5,  1.6,  0.6],\n",
      "       [ 5.1,  3.8,  1.9,  0.4],\n",
      "       [ 4.8,  3. ,  1.4,  0.3],\n",
      "       [ 5.1,  3.8,  1.6,  0.2],\n",
      "       [ 4.6,  3.2,  1.4,  0.2],\n",
      "       [ 5.3,  3.7,  1.5,  0.2],\n",
      "       [ 5. ,  3.3,  1.4,  0.2],\n",
      "       [ 7. ,  3.2,  4.7,  1.4],\n",
      "       [ 6.4,  3.2,  4.5,  1.5],\n",
      "       [ 6.9,  3.1,  4.9,  1.5],\n",
      "       [ 5.5,  2.3,  4. ,  1.3],\n",
      "       [ 6.5,  2.8,  4.6,  1.5],\n",
      "       [ 5.7,  2.8,  4.5,  1.3],\n",
      "       [ 6.3,  3.3,  4.7,  1.6],\n",
      "       [ 4.9,  2.4,  3.3,  1. ],\n",
      "       [ 6.6,  2.9,  4.6,  1.3],\n",
      "       [ 5.2,  2.7,  3.9,  1.4],\n",
      "       [ 5. ,  2. ,  3.5,  1. ],\n",
      "       [ 5.9,  3. ,  4.2,  1.5],\n",
      "       [ 6. ,  2.2,  4. ,  1. ],\n",
      "       [ 6.1,  2.9,  4.7,  1.4],\n",
      "       [ 5.6,  2.9,  3.6,  1.3],\n",
      "       [ 6.7,  3.1,  4.4,  1.4],\n",
      "       [ 5.6,  3. ,  4.5,  1.5],\n",
      "       [ 5.8,  2.7,  4.1,  1. ],\n",
      "       [ 6.2,  2.2,  4.5,  1.5],\n",
      "       [ 5.6,  2.5,  3.9,  1.1],\n",
      "       [ 5.9,  3.2,  4.8,  1.8],\n",
      "       [ 6.1,  2.8,  4. ,  1.3],\n",
      "       [ 6.3,  2.5,  4.9,  1.5],\n",
      "       [ 6.1,  2.8,  4.7,  1.2],\n",
      "       [ 6.4,  2.9,  4.3,  1.3],\n",
      "       [ 6.6,  3. ,  4.4,  1.4],\n",
      "       [ 6.8,  2.8,  4.8,  1.4],\n",
      "       [ 6.7,  3. ,  5. ,  1.7],\n",
      "       [ 6. ,  2.9,  4.5,  1.5],\n",
      "       [ 5.7,  2.6,  3.5,  1. ],\n",
      "       [ 5.5,  2.4,  3.8,  1.1],\n",
      "       [ 5.5,  2.4,  3.7,  1. ],\n",
      "       [ 5.8,  2.7,  3.9,  1.2],\n",
      "       [ 6. ,  2.7,  5.1,  1.6],\n",
      "       [ 5.4,  3. ,  4.5,  1.5],\n",
      "       [ 6. ,  3.4,  4.5,  1.6],\n",
      "       [ 6.7,  3.1,  4.7,  1.5],\n",
      "       [ 6.3,  2.3,  4.4,  1.3],\n",
      "       [ 5.6,  3. ,  4.1,  1.3],\n",
      "       [ 5.5,  2.5,  4. ,  1.3],\n",
      "       [ 5.5,  2.6,  4.4,  1.2],\n",
      "       [ 6.1,  3. ,  4.6,  1.4],\n",
      "       [ 5.8,  2.6,  4. ,  1.2],\n",
      "       [ 5. ,  2.3,  3.3,  1. ],\n",
      "       [ 5.6,  2.7,  4.2,  1.3],\n",
      "       [ 5.7,  3. ,  4.2,  1.2],\n",
      "       [ 5.7,  2.9,  4.2,  1.3],\n",
      "       [ 6.2,  2.9,  4.3,  1.3],\n",
      "       [ 5.1,  2.5,  3. ,  1.1],\n",
      "       [ 5.7,  2.8,  4.1,  1.3],\n",
      "       [ 6.3,  3.3,  6. ,  2.5],\n",
      "       [ 5.8,  2.7,  5.1,  1.9],\n",
      "       [ 7.1,  3. ,  5.9,  2.1],\n",
      "       [ 6.3,  2.9,  5.6,  1.8],\n",
      "       [ 6.5,  3. ,  5.8,  2.2],\n",
      "       [ 7.6,  3. ,  6.6,  2.1],\n",
      "       [ 4.9,  2.5,  4.5,  1.7],\n",
      "       [ 7.3,  2.9,  6.3,  1.8],\n",
      "       [ 6.7,  2.5,  5.8,  1.8],\n",
      "       [ 7.2,  3.6,  6.1,  2.5],\n",
      "       [ 6.5,  3.2,  5.1,  2. ],\n",
      "       [ 6.4,  2.7,  5.3,  1.9],\n",
      "       [ 6.8,  3. ,  5.5,  2.1],\n",
      "       [ 5.7,  2.5,  5. ,  2. ],\n",
      "       [ 5.8,  2.8,  5.1,  2.4],\n",
      "       [ 6.4,  3.2,  5.3,  2.3],\n",
      "       [ 6.5,  3. ,  5.5,  1.8],\n",
      "       [ 7.7,  3.8,  6.7,  2.2],\n",
      "       [ 7.7,  2.6,  6.9,  2.3],\n",
      "       [ 6. ,  2.2,  5. ,  1.5],\n",
      "       [ 6.9,  3.2,  5.7,  2.3],\n",
      "       [ 5.6,  2.8,  4.9,  2. ],\n",
      "       [ 7.7,  2.8,  6.7,  2. ],\n",
      "       [ 6.3,  2.7,  4.9,  1.8],\n",
      "       [ 6.7,  3.3,  5.7,  2.1],\n",
      "       [ 7.2,  3.2,  6. ,  1.8],\n",
      "       [ 6.2,  2.8,  4.8,  1.8],\n",
      "       [ 6.1,  3. ,  4.9,  1.8],\n",
      "       [ 6.4,  2.8,  5.6,  2.1],\n",
      "       [ 7.2,  3. ,  5.8,  1.6],\n",
      "       [ 7.4,  2.8,  6.1,  1.9],\n",
      "       [ 7.9,  3.8,  6.4,  2. ],\n",
      "       [ 6.4,  2.8,  5.6,  2.2],\n",
      "       [ 6.3,  2.8,  5.1,  1.5],\n",
      "       [ 6.1,  2.6,  5.6,  1.4],\n",
      "       [ 7.7,  3. ,  6.1,  2.3],\n",
      "       [ 6.3,  3.4,  5.6,  2.4],\n",
      "       [ 6.4,  3.1,  5.5,  1.8],\n",
      "       [ 6. ,  3. ,  4.8,  1.8],\n",
      "       [ 6.9,  3.1,  5.4,  2.1],\n",
      "       [ 6.7,  3.1,  5.6,  2.4],\n",
      "       [ 6.9,  3.1,  5.1,  2.3],\n",
      "       [ 5.8,  2.7,  5.1,  1.9],\n",
      "       [ 6.8,  3.2,  5.9,  2.3],\n",
      "       [ 6.7,  3.3,  5.7,  2.5],\n",
      "       [ 6.7,  3. ,  5.2,  2.3],\n",
      "       [ 6.3,  2.5,  5. ,  1.9],\n",
      "       [ 6.5,  3. ,  5.2,  2. ],\n",
      "       [ 6.2,  3.4,  5.4,  2.3],\n",
      "       [ 5.9,  3. ,  5.1,  1.8]]), 'target': array([0, 0, 0, 0, 0, 0, 0, 0, 0, 0, 0, 0, 0, 0, 0, 0, 0, 0, 0, 0, 0, 0, 0,\n",
      "       0, 0, 0, 0, 0, 0, 0, 0, 0, 0, 0, 0, 0, 0, 0, 0, 0, 0, 0, 0, 0, 0, 0,\n",
      "       0, 0, 0, 0, 1, 1, 1, 1, 1, 1, 1, 1, 1, 1, 1, 1, 1, 1, 1, 1, 1, 1, 1,\n",
      "       1, 1, 1, 1, 1, 1, 1, 1, 1, 1, 1, 1, 1, 1, 1, 1, 1, 1, 1, 1, 1, 1, 1,\n",
      "       1, 1, 1, 1, 1, 1, 1, 1, 2, 2, 2, 2, 2, 2, 2, 2, 2, 2, 2, 2, 2, 2, 2,\n",
      "       2, 2, 2, 2, 2, 2, 2, 2, 2, 2, 2, 2, 2, 2, 2, 2, 2, 2, 2, 2, 2, 2, 2,\n",
      "       2, 2, 2, 2, 2, 2, 2, 2, 2, 2, 2, 2]), 'target_names': array(['setosa', 'versicolor', 'virginica'], \n",
      "      dtype='<U10'), 'DESCR': 'Iris Plants Database\\n====================\\n\\nNotes\\n-----\\nData Set Characteristics:\\n    :Number of Instances: 150 (50 in each of three classes)\\n    :Number of Attributes: 4 numeric, predictive attributes and the class\\n    :Attribute Information:\\n        - sepal length in cm\\n        - sepal width in cm\\n        - petal length in cm\\n        - petal width in cm\\n        - class:\\n                - Iris-Setosa\\n                - Iris-Versicolour\\n                - Iris-Virginica\\n    :Summary Statistics:\\n\\n    ============== ==== ==== ======= ===== ====================\\n                    Min  Max   Mean    SD   Class Correlation\\n    ============== ==== ==== ======= ===== ====================\\n    sepal length:   4.3  7.9   5.84   0.83    0.7826\\n    sepal width:    2.0  4.4   3.05   0.43   -0.4194\\n    petal length:   1.0  6.9   3.76   1.76    0.9490  (high!)\\n    petal width:    0.1  2.5   1.20  0.76     0.9565  (high!)\\n    ============== ==== ==== ======= ===== ====================\\n\\n    :Missing Attribute Values: None\\n    :Class Distribution: 33.3% for each of 3 classes.\\n    :Creator: R.A. Fisher\\n    :Donor: Michael Marshall (MARSHALL%PLU@io.arc.nasa.gov)\\n    :Date: July, 1988\\n\\nThis is a copy of UCI ML iris datasets.\\nhttp://archive.ics.uci.edu/ml/datasets/Iris\\n\\nThe famous Iris database, first used by Sir R.A Fisher\\n\\nThis is perhaps the best known database to be found in the\\npattern recognition literature.  Fisher\\'s paper is a classic in the field and\\nis referenced frequently to this day.  (See Duda & Hart, for example.)  The\\ndata set contains 3 classes of 50 instances each, where each class refers to a\\ntype of iris plant.  One class is linearly separable from the other 2; the\\nlatter are NOT linearly separable from each other.\\n\\nReferences\\n----------\\n   - Fisher,R.A. \"The use of multiple measurements in taxonomic problems\"\\n     Annual Eugenics, 7, Part II, 179-188 (1936); also in \"Contributions to\\n     Mathematical Statistics\" (John Wiley, NY, 1950).\\n   - Duda,R.O., & Hart,P.E. (1973) Pattern Classification and Scene Analysis.\\n     (Q327.D83) John Wiley & Sons.  ISBN 0-471-22361-1.  See page 218.\\n   - Dasarathy, B.V. (1980) \"Nosing Around the Neighborhood: A New System\\n     Structure and Classification Rule for Recognition in Partially Exposed\\n     Environments\".  IEEE Transactions on Pattern Analysis and Machine\\n     Intelligence, Vol. PAMI-2, No. 1, 67-71.\\n   - Gates, G.W. (1972) \"The Reduced Nearest Neighbor Rule\".  IEEE Transactions\\n     on Information Theory, May 1972, 431-433.\\n   - See also: 1988 MLC Proceedings, 54-64.  Cheeseman et al\"s AUTOCLASS II\\n     conceptual clustering system finds 3 classes in the data.\\n   - Many, many more ...\\n', 'feature_names': ['sepal length (cm)', 'sepal width (cm)', 'petal length (cm)', 'petal width (cm)']}\n"
     ]
    }
   ],
   "source": [
    "from sklearn import datasets\n",
    "iris = datasets.load_iris()\n",
    "\n",
    "\n",
    "print(len(iris.data))\n",
    "print(len(iris.target))\n",
    "\n",
    "print(iris)\n"
   ]
  },
  {
   "cell_type": "markdown",
   "metadata": {},
   "source": [
    "#### Sepal length, Sepal width, Petal length, Petal width"
   ]
  },
  {
   "cell_type": "code",
   "execution_count": 3,
   "metadata": {
    "collapsed": false
   },
   "outputs": [
    {
     "name": "stdout",
     "output_type": "stream",
     "text": [
      "0\n",
      "{0, 1, 2}\n"
     ]
    }
   ],
   "source": [
    "print(iris.target[0])\n",
    "print(set(iris.target))"
   ]
  },
  {
   "cell_type": "markdown",
   "metadata": {},
   "source": [
    "# birth weigh data\n",
    "The University of Massachusetts at Amherst\n",
    "\n",
    "One such dataset is a measure of child birth weight and other demographic and medical measurements of the mother and family history.\n",
    "\n",
    "There are 189 observations of 11 variables."
   ]
  },
  {
   "cell_type": "code",
   "execution_count": 15,
   "metadata": {
    "collapsed": false
   },
   "outputs": [
    {
     "name": "stdout",
     "output_type": "stream",
     "text": [
      "189\n",
      "11\n",
      "['These data come from  Hosmer, D.W., Lemeshow, S. and Sturdivant, R.X. (2013) ', 'Applied Logistic Regression: Third Edition.', 'These data are copyrighted by John Wiley & Sons Inc. and must be ', 'acknowledged and used accordingly.', '', '  ID    LOW    AGE    LWT    RACE    SMOKE    PTL    HT    UI    FTV     BWT', '', '  85     0      19    182      2       0       0      0     1     0     2523', '  86     0      33    155      3       0       0      0     0     3     2551', '  87     0      20    105      1       1       0      0     0     1     2557', '  88     0      21    108      1       1       0      0     1     2     2594', '  89     0      18    107      1       1       0      0     1     0     2600', '  91     0      21    124      3       0       0      0     0     0     2622', '  92     0      22    118      1       0       0      0     0     1     2637', '  93     0      17    103      3       0       0      0     0     1     2637', '  94     0      29    123      1       1       0      0     0     1     2663', '  95     0      26    113      1       1       0      0     0     0     2665', '  96     0      19     95      3       0       0      0     0     0     2722', '  97     0      19    150      3       0       0      0     0     1     2733', '  98     0      22     95      3       0       0      1     0     0     2750', '  99     0      30    107      3       0       1      0     1     2     2750', ' 100     0      18    100      1       1       0      0     0     0     2769', ' 101     0      18    100      1       1       0      0     0     0     2769', ' 102     0      15     98      2       0       0      0     0     0     2778', ' 103     0      25    118      1       1       0      0     0     3     2782', ' 104     0      20    120      3       0       0      0     1     0     2807', ' 105     0      28    120      1       1       0      0     0     1     2821', ' 106     0      32    121      3       0       0      0     0     2     2835', ' 107     0      31    100      1       0       0      0     1     3     2835', ' 108     0      36    202      1       0       0      0     0     1     2836', ' 109     0      28    120      3       0       0      0     0     0     2863', ' 111     0      25    120      3       0       0      0     1     2     2877', ' 112     0      28    167      1       0       0      0     0     0     2877', ' 113     0      17    122      1       1       0      0     0     0     2906', ' 114     0      29    150      1       0       0      0     0     2     2920', ' 115     0      26    168      2       1       0      0     0     0     2920', ' 116     0      17    113      2       0       0      0     0     1     2920', ' 117     0      17    113      2       0       0      0     0     1     2920', ' 118     0      24     90      1       1       1      0     0     1     2948', ' 119     0      35    121      2       1       1      0     0     1     2948', ' 120     0      25    155      1       0       0      0     0     1     2977', ' 121     0      25    125      2       0       0      0     0     0     2977', ' 123     0      29    140      1       1       0      0     0     2     2977', ' 124     0      19    138      1       1       0      0     0     2     2977', ' 125     0      27    124      1       1       0      0     0     0     2992', ' 126     0      31    215      1       1       0      0     0     2     3005', ' 127     0      33    109      1       1       0      0     0     1     3033', ' 128     0      21    185      2       1       0      0     0     2     3042', ' 129     0      19    189      1       0       0      0     0     2     3062', ' 130     0      23    130      2       0       0      0     0     1     3062', ' 131     0      21    160      1       0       0      0     0     0     3062', ' 132     0      18     90      1       1       0      0     1     0     3076', ' 133     0      18     90      1       1       0      0     1     0     3076', ' 134     0      32    132      1       0       0      0     0     4     3080', ' 135     0      19    132      3       0       0      0     0     0     3090', ' 136     0      24    115      1       0       0      0     0     2     3090', ' 137     0      22     85      3       1       0      0     0     0     3090', ' 138     0      22    120      1       0       0      1     0     1     3100', ' 139     0      23    128      3       0       0      0     0     0     3104', ' 140     0      22    130      1       1       0      0     0     0     3132', ' 141     0      30     95      1       1       0      0     0     2     3147', ' 142     0      19    115      3       0       0      0     0     0     3175', ' 143     0      16    110      3       0       0      0     0     0     3175', ' 144     0      21    110      3       1       0      0     1     0     3203', ' 145     0      30    153      3       0       0      0     0     0     3203', ' 146     0      20    103      3       0       0      0     0     0     3203', ' 147     0      17    119      3       0       0      0     0     0     3225', ' 148     0      17    119      3       0       0      0     0     0     3225', ' 149     0      23    119      3       0       0      0     0     2     3232', ' 150     0      24    110      3       0       0      0     0     0     3232', ' 151     0      28    140      1       0       0      0     0     0     3234', ' 154     0      26    133      3       1       2      0     0     0     3260', ' 155     0      20    169      3       0       1      0     1     1     3274', ' 156     0      24    115      3       0       0      0     0     2     3274', ' 159     0      28    250      3       1       0      0     0     6     3303', ' 160     0      20    141      1       0       2      0     1     1     3317', ' 161     0      22    158      2       0       1      0     0     2     3317', ' 162     0      22    112      1       1       2      0     0     0     3317', ' 163     0      31    150      3       1       0      0     0     2     3321', ' 164     0      23    115      3       1       0      0     0     1     3331', ' 166     0      16    112      2       0       0      0     0     0     3374', ' 167     0      16    135      1       1       0      0     0     0     3374', ' 168     0      18    229      2       0       0      0     0     0     3402', ' 169     0      25    140      1       0       0      0     0     1     3416', ' 170     0      32    134      1       1       1      0     0     4     3430', ' 172     0      20    121      2       1       0      0     0     0     3444', ' 173     0      23    190      1       0       0      0     0     0     3459', ' 174     0      22    131      1       0       0      0     0     1     3460', ' 175     0      32    170      1       0       0      0     0     0     3473', ' 176     0      30    110      3       0       0      0     0     0     3475', ' 177     0      20    127      3       0       0      0     0     0     3487', ' 179     0      23    123      3       0       0      0     0     0     3544', ' 180     0      17    120      3       1       0      0     0     0     3572', ' 181     0      19    105      3       0       0      0     0     0     3572', ' 182     0      23    130      1       0       0      0     0     0     3586', ' 183     0      36    175      1       0       0      0     0     0     3600', ' 184     0      22    125      1       0       0      0     0     1     3614', ' 185     0      24    133      1       0       0      0     0     0     3614', ' 186     0      21    134      3       0       0      0     0     2     3629', ' 187     0      19    235      1       1       0      1     0     0     3629', ' 188     0      25     95      1       1       3      0     1     0     3637', ' 189     0      16    135      1       1       0      0     0     0     3643', ' 190     0      29    135      1       0       0      0     0     1     3651', ' 191     0      29    154      1       0       0      0     0     1     3651', ' 192     0      19    147      1       1       0      0     0     0     3651', ' 193     0      19    147      1       1       0      0     0     0     3651', ' 195     0      30    137      1       0       0      0     0     1     3699', ' 196     0      24    110      1       0       0      0     0     1     3728', ' 197     0      19    184      1       1       0      1     0     0     3756', ' 199     0      24    110      3       0       1      0     0     0     3770', ' 200     0      23    110      1       0       0      0     0     1     3770', ' 201     0      20    120      3       0       0      0     0     0     3770', ' 202     0      25    241      2       0       0      1     0     0     3790', ' 203     0      30    112      1       0       0      0     0     1     3799', ' 204     0      22    169      1       0       0      0     0     0     3827', ' 205     0      18    120      1       1       0      0     0     2     3856', ' 206     0      16    170      2       0       0      0     0     4     3860', ' 207     0      32    186      1       0       0      0     0     2     3860', ' 208     0      18    120      3       0       0      0     0     1     3884', ' 209     0      29    130      1       1       0      0     0     2     3884', ' 210     0      33    117      1       0       0      0     1     1     3912', ' 211     0      20    170      1       1       0      0     0     0     3940', ' 212     0      28    134      3       0       0      0     0     1     3941', ' 213     0      14    135      1       0       0      0     0     0     3941', ' 214     0      28    130      3       0       0      0     0     0     3969', ' 215     0      25    120      1       0       0      0     0     2     3983', ' 216     0      16     95      3       0       0      0     0     1     3997', ' 217     0      20    158      1       0       0      0     0     1     3997', ' 218     0      26    160      3       0       0      0     0     0     4054', ' 219     0      21    115      1       0       0      0     0     1     4054', ' 220     0      22    129      1       0       0      0     0     0     4111', ' 221     0      25    130      1       0       0      0     0     2     4153', ' 222     0      31    120      1       0       0      0     0     2     4167', ' 223     0      35    170      1       0       1      0     0     1     4174', ' 224     0      19    120      1       1       0      0     0     0     4238', ' 225     0      24    116      1       0       0      0     0     1     4593', ' 226     0      45    123      1       0       0      0     0     1     4990', '   4     1      28    120      3       1       1      0     1     0      709', '  10     1      29    130      1       0       0      0     1     2     1021', '  11     1      34    187      2       1       0      1     0     0     1135', '  13     1      25    105      3       0       1      1     0     0     1330', '  15     1      25     85      3       0       0      0     1     0     1474', '  16     1      27    150      3       0       0      0     0     0     1588', '  17     1      23     97      3       0       0      0     1     1     1588', '  18     1      24    128      2       0       1      0     0     1     1701', '  19     1      24    132      3       0       0      1     0     0     1729', '  20     1      21    165      1       1       0      1     0     1     1790', '  22     1      32    105      1       1       0      0     0     0     1818', '  23     1      19     91      1       1       2      0     1     0     1885', '  24     1      25    115      3       0       0      0     0     0     1893', '  25     1      16    130      3       0       0      0     0     1     1899', '  26     1      25     92      1       1       0      0     0     0     1928', '  27     1      20    150      1       1       0      0     0     2     1928', '  28     1      21    200      2       0       0      0     1     2     1928', '  29     1      24    155      1       1       1      0     0     0     1936', '  30     1      21    103      3       0       0      0     0     0     1970', '  31     1      20    125      3       0       0      0     1     0     2055', '  32     1      25     89      3       0       2      0     0     1     2055', '  33     1      19    102      1       0       0      0     0     2     2082', '  34     1      19    112      1       1       0      0     1     0     2084', '  35     1      26    117      1       1       1      0     0     0     2084', '  36     1      24    138      1       0       0      0     0     0     2100', '  37     1      17    130      3       1       1      0     1     0     2125', '  40     1      20    120      2       1       0      0     0     3     2126', '  42     1      22    130      1       1       1      0     1     1     2187', '  43     1      27    130      2       0       0      0     1     0     2187', '  44     1      20     80      3       1       0      0     1     0     2211', '  45     1      17    110      1       1       0      0     0     0     2225', '  46     1      25    105      3       0       1      0     0     1     2240', '  47     1      20    109      3       0       0      0     0     0     2240', '  49     1      18    148      3       0       0      0     0     0     2282', '  50     1      18    110      2       1       1      0     0     0     2296', '  51     1      20    121      1       1       1      0     1     0     2296', '  52     1      21    100      3       0       1      0     0     4     2301', '  54     1      26     96      3       0       0      0     0     0     2325', '  56     1      31    102      1       1       1      0     0     1     2353', '  57     1      15    110      1       0       0      0     0     0     2353', '  59     1      23    187      2       1       0      0     0     1     2367', '  60     1      20    122      2       1       0      0     0     0     2381', '  61     1      24    105      2       1       0      0     0     0     2381', '  62     1      15    115      3       0       0      0     1     0     2381', '  63     1      23    120      3       0       0      0     0     0     2395', '  65     1      30    142      1       1       1      0     0     0     2410', '  67     1      22    130      1       1       0      0     0     1     2410', '  68     1      17    120      1       1       0      0     0     3     2414', '  69     1      23    110      1       1       1      0     0     0     2424', '  71     1      17    120      2       0       0      0     0     2     2438', '  75     1      26    154      3       0       1      1     0     1     2442', '  76     1      20    105      3       0       0      0     0     3     2450', '  77     1      26    190      1       1       0      0     0     0     2466', '  78     1      14    101      3       1       1      0     0     0     2466', '  79     1      28     95      1       1       0      0     0     2     2466', '  81     1      14    100      3       0       0      0     0     2     2495', '  82     1      23     94      3       1       0      0     0     0     2495', '  83     1      17    142      2       0       0      1     0     0     2495', '  84     1      21    130      1       1       0      1     0     3     2495', '', '']\n"
     ]
    }
   ],
   "source": [
    "import requests\n",
    "birthdata_url = 'https://www.umass.edu/statdata/statdata/data/lowbwt.dat'\n",
    "\n",
    "birth_file = requests.get(birthdata_url)\n",
    "\n",
    "#birth_data = birth_file.text.split('\\r\\n')[5:]\n",
    "#birth_header = [[x for x in birth_data[0].split(' ') if len(x)>=1] for y in birth_data[1:] if len(y)>=1] \n",
    "\n",
    "birth_data = birth_file.text.split('\\r\\n') [5:]\n",
    "birth_header = [x for x in birth_data[0].split(' ') if len(x)>=1]\n",
    "birth_data = [[float(x) for x in y.split(' ') if len(x)>=1] for y in birth_data[1:] if len(y)>=1]\n",
    "\n",
    "print(len(birth_data))\n",
    "print(len(birth_data[0]))\n",
    "print(birth_file.text.split('\\r\\n'))\n"
   ]
  },
  {
   "cell_type": "markdown",
   "metadata": {
    "collapsed": true
   },
   "source": [
    "# Boston Housing data\n",
    "\n",
    "Carnegie Mellon University maintains a library of datasets in their Statlib Library. \n",
    "This data is easily accessible via The University of California at Irvine's Machine-Learning Repository (2). \n",
    "There are 506 observations of house worth along with various demographic data and housing attributes (14 variables)."
   ]
  },
  {
   "cell_type": "code",
   "execution_count": 14,
   "metadata": {
    "collapsed": false
   },
   "outputs": [
    {
     "name": "stdout",
     "output_type": "stream",
     "text": [
      "506\n",
      "14\n"
     ]
    }
   ],
   "source": [
    "import requests\n",
    "housing_url = 'https://archive.ics.uci.edu/ml/machine-learning-databases/housing/housing.data'\n",
    "housing_header = ['CRIM', 'ZN', 'INDUS', 'CHAS', 'NOX', 'RM', 'AGE', 'DIS', 'RAD', 'TAX', 'PTRATIO', 'B', 'LSTAT', 'MEDV0']\n",
    "housing_file = requests.get(housing_url)\n",
    "housing_data = [[float(x) for x in y.split(' ') if len(x)>=1]\n",
    "for y in housing_file.text.split('\\n') if len(y)>=1]\n",
    "print(len(housing_data))\n",
    " \n",
    "print(len(housing_data[0]))\n",
    " "
   ]
  },
  {
   "cell_type": "markdown",
   "metadata": {
    "collapsed": true
   },
   "source": [
    "# MNIST handwriting data\n",
    "MNIST (Mixed National Institute of Standards and Technology) is a subset of the larger NISThandwriting database. \n",
    "The MNIST handwriting dataset is hosted on Yann LeCun's website (https://yann.lecun.com/exdb/mnist/). \n",
    "\n",
    "It is a database of 70,000 images of single digit numbers (0-9) with about 60,000 annotated for a training set and 10,000 for a test set. \n",
    "\n",
    "This dataset is used so often in image recognition that TensorFlow provides built-in functions to access this data. \n",
    "In machine learning, it is also important to provide validation data to prevent overfitting (target leakage). Because of this TensorFlow, sets aside 5,000 of the train set into a validation set."
   ]
  },
  {
   "cell_type": "code",
   "execution_count": 19,
   "metadata": {
    "collapsed": false
   },
   "outputs": [
    {
     "name": "stdout",
     "output_type": "stream",
     "text": [
      "Extracting MNIST_data/train-images-idx3-ubyte.gz\n",
      "Extracting MNIST_data/train-labels-idx1-ubyte.gz\n",
      "Extracting MNIST_data/t10k-images-idx3-ubyte.gz\n",
      "Extracting MNIST_data/t10k-labels-idx1-ubyte.gz\n",
      "55000\n",
      "10000\n",
      "5000\n",
      "[ 0.  0.  0.  1.  0.  0.  0.  0.  0.  0.]\n"
     ]
    }
   ],
   "source": [
    "from tensorflow.examples.tutorials.mnist import input_data\n",
    "mnist = input_data.read_data_sets(\"MNIST_data/\", one_hot=True)\n",
    "print(len(mnist.train.images))\n",
    "\n",
    "print(len(mnist.test.images))\n",
    "\n",
    "print(len(mnist.validation.images))\n",
    "\n",
    "print(mnist.train.labels[1,:]) # The first label is a 3\n"
   ]
  },
  {
   "cell_type": "code",
   "execution_count": null,
   "metadata": {
    "collapsed": true
   },
   "outputs": [],
   "source": []
  }
 ],
 "metadata": {
  "kernelspec": {
   "display_name": "Python 3",
   "language": "python",
   "name": "python3"
  },
  "language_info": {
   "codemirror_mode": {
    "name": "ipython",
    "version": 3
   },
   "file_extension": ".py",
   "mimetype": "text/x-python",
   "name": "python",
   "nbconvert_exporter": "python",
   "pygments_lexer": "ipython3",
   "version": "3.6.0"
  }
 },
 "nbformat": 4,
 "nbformat_minor": 2
}
