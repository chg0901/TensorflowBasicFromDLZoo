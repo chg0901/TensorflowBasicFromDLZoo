{
 "cells": [
  {
   "cell_type": "markdown",
   "metadata": {},
   "source": [
    "# Training data\n"
   ]
  },
  {
   "cell_type": "code",
   "execution_count": 13,
   "metadata": {
    "collapsed": true
   },
   "outputs": [],
   "source": [
    "import tensorflow as tf"
   ]
  },
  {
   "cell_type": "code",
   "execution_count": 14,
   "metadata": {
    "collapsed": true
   },
   "outputs": [],
   "source": [
    "x_data = [[1, 2], [2, 3], [3, 1], [4, 3], [5, 3], [6, 2]]\n",
    "y_data = [[0], [0], [0], [1], [1], [1]]\n",
    "\n",
    "# placeholders for a tensor that will be always fed.\n",
    "X = tf.placeholder(tf.float32, shape=[None, 2])\n",
    "Y = tf.placeholder(tf.float32, shape=[None, 1])"
   ]
  },
  {
   "cell_type": "code",
   "execution_count": 15,
   "metadata": {
    "collapsed": true
   },
   "outputs": [],
   "source": [
    "\n",
    "W = tf.Variable(tf.random_normal([2, 1]), name='weight')\n",
    "b = tf.Variable(tf.random_normal([1]), name='bias')\n",
    "\n",
    "# Hypothesis using sigmoid: tf.div(1., 1. + tf.exp(tf.matmul(X, W) + b))\n",
    "hypothesis = tf.sigmoid(tf.matmul(X, W) + b)\n",
    "\n",
    "# cost/loss function\n",
    "cost = -tf.reduce_mean(Y * tf.log(hypothesis) + (1 - Y) *\n",
    "                      tf.log(1 - hypothesis))\n",
    "\n",
    "train = tf.train.GradientDescentOptimizer(learning_rate=0.01).minimize(cost)\n"
   ]
  },
  {
   "cell_type": "markdown",
   "metadata": {},
   "source": [
    "# Accuracy computation"
   ]
  },
  {
   "cell_type": "code",
   "execution_count": 16,
   "metadata": {
    "collapsed": true
   },
   "outputs": [],
   "source": [
    "# True if hypothesis>0.5 else False\n",
    "predicted = tf.cast(hypothesis > 0.5, dtype=tf.float32)\n",
    "accuracy = tf.reduce_mean(tf.cast(tf.equal(predicted, Y), dtype=tf.float32))\n"
   ]
  },
  {
   "cell_type": "markdown",
   "metadata": {},
   "source": [
    "# Train the model"
   ]
  },
  {
   "cell_type": "code",
   "execution_count": 18,
   "metadata": {
    "collapsed": false
   },
   "outputs": [
    {
     "name": "stdout",
     "output_type": "stream",
     "text": [
      "0 1.56194\n",
      "200 0.48038\n",
      "400 0.353669\n",
      "600 0.299851\n",
      "800 0.27279\n",
      "1000 0.256751\n",
      "1200 0.245826\n",
      "1400 0.237522\n",
      "1600 0.230685\n",
      "1800 0.224735\n",
      "2000 0.219368\n",
      "2200 0.214412\n",
      "2400 0.209766\n",
      "2600 0.20537\n",
      "2800 0.201184\n",
      "3000 0.197183\n",
      "3200 0.193346\n",
      "3400 0.18966\n",
      "3600 0.186114\n",
      "3800 0.182698\n",
      "4000 0.179406\n",
      "4200 0.176229\n",
      "4400 0.173162\n",
      "4600 0.170199\n",
      "4800 0.167335\n",
      "5000 0.164566\n",
      "5200 0.161886\n",
      "5400 0.159292\n",
      "5600 0.156779\n",
      "5800 0.154345\n",
      "6000 0.151984\n",
      "6200 0.149696\n",
      "6400 0.147475\n",
      "6600 0.14532\n",
      "6800 0.143227\n",
      "7000 0.141194\n",
      "7200 0.139218\n",
      "7400 0.137298\n",
      "7600 0.13543\n",
      "7800 0.133613\n",
      "8000 0.131845\n",
      "8200 0.130124\n",
      "8400 0.128447\n",
      "8600 0.126814\n",
      "8800 0.125222\n",
      "9000 0.123671\n",
      "9200 0.122158\n",
      "9400 0.120683\n",
      "9600 0.119243\n",
      "9800 0.117838\n",
      "10000 0.116466\n",
      "\n",
      "Hypothesis:  [[ 0.01817786]\n",
      " [ 0.13723624]\n",
      " [ 0.23745884]\n",
      " [ 0.8141349 ]\n",
      " [ 0.95830858]\n",
      " [ 0.98660851]] \n",
      "Correct (Y):  [[ 0.]\n",
      " [ 0.]\n",
      " [ 0.]\n",
      " [ 1.]\n",
      " [ 1.]\n",
      " [ 1.]] \n",
      "Accuracy:  1.0\n"
     ]
    }
   ],
   "source": [
    "# Launch graph\n",
    "with tf.Session() as sess:\n",
    "    # Initialize TensorFlow variables\n",
    "    sess.run(tf.global_variables_initializer())\n",
    "    \n",
    "    for step in range(10001):\n",
    "        cost_val, _ = sess.run([cost, train], feed_dict={X: x_data, Y: y_data})\n",
    "        if step % 200 == 0:\n",
    "            print(step, cost_val)\n",
    "\n",
    "    # Accuracy report\n",
    "    h, c, a = sess.run([hypothesis, predicted, accuracy],\n",
    "                      feed_dict={X: x_data, Y: y_data})\n",
    "    print(\"\\nHypothesis: \", h, \"\\nCorrect (Y): \", c, \"\\nAccuracy: \", a)\n"
   ]
  },
  {
   "cell_type": "markdown",
   "metadata": {},
   "source": [
    "# Fullly code"
   ]
  },
  {
   "cell_type": "code",
   "execution_count": 19,
   "metadata": {
    "collapsed": false
   },
   "outputs": [
    {
     "name": "stdout",
     "output_type": "stream",
     "text": [
      "0 1.51521\n",
      "200 0.49105\n",
      "400 0.465724\n",
      "600 0.445768\n",
      "800 0.428662\n",
      "1000 0.413289\n",
      "1200 0.399113\n",
      "1400 0.385856\n",
      "1600 0.373363\n",
      "1800 0.361541\n",
      "2000 0.350327\n",
      "2200 0.339674\n",
      "2400 0.329547\n",
      "2600 0.319912\n",
      "2800 0.310742\n",
      "3000 0.302011\n",
      "3200 0.293692\n",
      "3400 0.285765\n",
      "3600 0.278205\n",
      "3800 0.270993\n",
      "4000 0.264109\n",
      "4200 0.257534\n",
      "4400 0.25125\n",
      "4600 0.245243\n",
      "4800 0.239495\n",
      "5000 0.233992\n",
      "5200 0.228721\n",
      "5400 0.223669\n",
      "5600 0.218823\n",
      "5800 0.214173\n",
      "6000 0.209708\n",
      "6200 0.205418\n",
      "6400 0.201293\n",
      "6600 0.197326\n",
      "6800 0.193507\n",
      "7000 0.189829\n",
      "7200 0.186285\n",
      "7400 0.182869\n",
      "7600 0.179573\n",
      "7800 0.176392\n",
      "8000 0.17332\n",
      "8200 0.170352\n",
      "8400 0.167484\n",
      "8600 0.164709\n",
      "8800 0.162024\n",
      "9000 0.159426\n",
      "9200 0.156909\n",
      "9400 0.15447\n",
      "9600 0.152106\n",
      "9800 0.149814\n",
      "10000 0.14759\n",
      "\n",
      "Hypothesis:  [[ 0.02994242]\n",
      " [ 0.15775071]\n",
      " [ 0.30102834]\n",
      " [ 0.78314155]\n",
      " [ 0.94067872]\n",
      " [ 0.98053998]] \n",
      "Correct (Y):  [[ 0.]\n",
      " [ 0.]\n",
      " [ 0.]\n",
      " [ 1.]\n",
      " [ 1.]\n",
      " [ 1.]] \n",
      "Accuracy:  1.0\n"
     ]
    }
   ],
   "source": [
    "x_data = [[1, 2], [2, 3], [3, 1], [4, 3], [5, 3], [6, 2]] \n",
    "y_data = [[0], [0], [0], [1], [1], [1]]\n",
    "# placeholders for a tensor that will be always fed.\n",
    "X = tf.placeholder(tf.float32, shape=[None, 2])\n",
    "Y = tf.placeholder(tf.float32, shape=[None, 1])\n",
    "\n",
    "W = tf.Variable(tf.random_normal([2, 1]), name='weight')\n",
    "b = tf.Variable(tf.random_normal([1]), name='bias')\n",
    "# Hypothesis using sigmoid: tf.div(1., 1. + tf.exp(tf.matmul(X, W)))\n",
    "hypothesis = tf.sigmoid(tf.matmul(X, W) + b)\n",
    "# cost/loss function\n",
    "cost = -tf.reduce_mean(Y * tf.log(hypothesis) + (1 - Y) * tf.log(1 - hypothesis))\n",
    "train = tf.train.GradientDescentOptimizer(learning_rate=0.01).minimize(cost)\n",
    "\n",
    "# Accuracy computation\n",
    "# True if hypothesis>0.5 else False\n",
    "predicted = tf.cast(hypothesis > 0.5, dtype=tf.float32)\n",
    "accuracy = tf.reduce_mean(tf.cast(tf.equal(predicted, Y), dtype=tf.float32))\n",
    "\n",
    "# Launch graph\n",
    "with tf.Session() as sess:\n",
    "    # Initialize TensorFlow variables\n",
    "    sess.run(tf.global_variables_initializer())\n",
    "\n",
    "    for step in range(10001):\n",
    "        cost_val, _ = sess.run([cost, train], feed_dict={X: x_data, Y: y_data})\n",
    "        if step % 200 == 0:\n",
    "            print(step, cost_val)\n",
    "\n",
    "    # Accuracy report\n",
    "    h, c, a = sess.run([hypothesis, predicted, accuracy],\n",
    "                      feed_dict={X: x_data, Y: y_data})\n",
    "    print(\"\\nHypothesis: \", h, \"\\nCorrect (Y): \", c, \"\\nAccuracy: \", a)\n"
   ]
  },
  {
   "cell_type": "code",
   "execution_count": null,
   "metadata": {
    "collapsed": true
   },
   "outputs": [],
   "source": []
  }
 ],
 "metadata": {
  "kernelspec": {
   "display_name": "Python 3",
   "language": "python",
   "name": "python3"
  },
  "language_info": {
   "codemirror_mode": {
    "name": "ipython",
    "version": 3
   },
   "file_extension": ".py",
   "mimetype": "text/x-python",
   "name": "python",
   "nbconvert_exporter": "python",
   "pygments_lexer": "ipython3",
   "version": "3.6.0"
  }
 },
 "nbformat": 4,
 "nbformat_minor": 2
}
