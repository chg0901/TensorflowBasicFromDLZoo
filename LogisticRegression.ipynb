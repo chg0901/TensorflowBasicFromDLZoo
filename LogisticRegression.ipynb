{
 "cells": [
  {
   "cell_type": "markdown",
   "metadata": {},
   "source": [
    "# Training data\n"
   ]
  },
  {
   "cell_type": "code",
   "execution_count": 1,
   "metadata": {
    "collapsed": true
   },
   "outputs": [],
   "source": [
    "import tensorflow as tf"
   ]
  },
  {
   "cell_type": "code",
   "execution_count": 2,
   "metadata": {
    "collapsed": true
   },
   "outputs": [],
   "source": [
    "x_data = [[1, 2], [2, 3], [3, 1], [4, 3], [5, 3], [6, 2]]\n",
    "y_data = [[0], [0], [0], [1], [1], [1]]\n",
    "\n",
    "# placeholders for a tensor that will be always fed.\n",
    "X = tf.placeholder(tf.float32, shape=[None, 2])\n",
    "Y = tf.placeholder(tf.float32, shape=[None, 1])"
   ]
  },
  {
   "cell_type": "code",
   "execution_count": 3,
   "metadata": {
    "collapsed": true
   },
   "outputs": [],
   "source": [
    "\n",
    "W = tf.Variable(tf.random_normal([2, 1]), name='weight')\n",
    "b = tf.Variable(tf.random_normal([1]), name='bias')\n",
    "\n",
    "# Hypothesis using sigmoid: tf.div(1., 1. + tf.exp(tf.matmul(X, W) + b))\n",
    "hypothesis = tf.sigmoid(tf.matmul(X, W) + b)\n",
    "\n",
    "# cost/loss function\n",
    "cost = -tf.reduce_mean(Y * tf.log(hypothesis) + (1 - Y) *\n",
    "                      tf.log(1 - hypothesis))\n",
    "\n",
    "train = tf.train.GradientDescentOptimizer(learning_rate=0.01).minimize(cost)\n"
   ]
  },
  {
   "cell_type": "markdown",
   "metadata": {},
   "source": [
    "# Accuracy computation"
   ]
  },
  {
   "cell_type": "code",
   "execution_count": 4,
   "metadata": {
    "collapsed": true
   },
   "outputs": [],
   "source": [
    "# True if hypothesis>0.5 else False\n",
    "predicted = tf.cast(hypothesis > 0.5, dtype=tf.float32)\n",
    "accuracy = tf.reduce_mean(tf.cast(tf.equal(predicted, Y), dtype=tf.float32))\n"
   ]
  },
  {
   "cell_type": "markdown",
   "metadata": {},
   "source": [
    "# Train the model"
   ]
  },
  {
   "cell_type": "code",
   "execution_count": 9,
   "metadata": {
    "collapsed": false
   },
   "outputs": [
    {
     "name": "stdout",
     "output_type": "stream",
     "text": [
      "0 0.870222\n",
      "200 0.714366\n",
      "400 0.644866\n",
      "600 0.602872\n",
      "800 0.572437\n",
      "1000 0.547566\n",
      "1200 0.525758\n",
      "1400 0.505877\n",
      "1600 0.487367\n",
      "1800 0.469942\n",
      "2000 0.453443\n",
      "2200 0.437776\n",
      "2400 0.422879\n",
      "2600 0.408709\n",
      "2800 0.395226\n",
      "3000 0.382399\n",
      "3200 0.370196\n",
      "3400 0.358588\n",
      "3600 0.347545\n",
      "3800 0.337039\n",
      "4000 0.327042\n",
      "4200 0.317528\n",
      "4400 0.30847\n",
      "4600 0.299844\n",
      "4800 0.291626\n",
      "5000 0.283793\n",
      "5200 0.276323\n",
      "5400 0.269195\n",
      "5600 0.262391\n",
      "5800 0.255892\n",
      "6000 0.249681\n",
      "6200 0.243741\n",
      "6400 0.238057\n",
      "6600 0.232615\n",
      "6800 0.227401\n",
      "7000 0.222403\n",
      "7200 0.217608\n",
      "7400 0.213007\n",
      "7600 0.208588\n",
      "7800 0.204341\n",
      "8000 0.200258\n",
      "8200 0.196329\n",
      "8400 0.192547\n",
      "8600 0.188905\n",
      "8800 0.185394\n",
      "9000 0.182009\n",
      "9200 0.178744\n",
      "9400 0.175591\n",
      "9600 0.172547\n",
      "9800 0.169605\n",
      "10000 0.166761\n",
      "\n",
      "Hypothesis:  [[ 0.03832221]\n",
      " [ 0.16800189]\n",
      " [ 0.33930886]\n",
      " [ 0.76605916]\n",
      " [ 0.92951179]\n",
      " [ 0.97685289]] \n",
      "Correct (Y):  [[ 0.]\n",
      " [ 0.]\n",
      " [ 0.]\n",
      " [ 1.]\n",
      " [ 1.]\n",
      " [ 1.]] \n",
      "Accuracy:  1.0\n"
     ]
    }
   ],
   "source": [
    "# Launch graph\n",
    "with tf.Session() as sess:\n",
    "    # Initialize TensorFlow variables\n",
    "    sess.run(tf.global_variables_initializer())\n",
    "    \n",
    "    for step in range(10001):\n",
    "        cost_val, _ = sess.run([cost, train], feed_dict={X: x_data, Y: y_data})\n",
    "        if step % 200 == 0:\n",
    "            print(step, cost_val)\n",
    "\n",
    "    # Accuracy report\n",
    "    h, c, a = sess.run([hypothesis, predicted, accuracy],\n",
    "                      feed_dict={X: x_data, Y: y_data})\n",
    "    print(\"\\nHypothesis: \", h, \"\\nCorrect (Y): \", c, \"\\nAccuracy: \", a)\n"
   ]
  },
  {
   "cell_type": "markdown",
   "metadata": {},
   "source": [
    "# Fullly code"
   ]
  },
  {
   "cell_type": "code",
   "execution_count": 10,
   "metadata": {
    "collapsed": false
   },
   "outputs": [
    {
     "name": "stdout",
     "output_type": "stream",
     "text": [
      "0 3.36317\n",
      "200 0.514294\n",
      "400 0.486059\n",
      "600 0.464345\n",
      "800 0.445983\n",
      "1000 0.4296\n",
      "1200 0.414548\n",
      "1400 0.400498\n",
      "1600 0.387271\n",
      "1800 0.37476\n",
      "2000 0.362895\n",
      "2200 0.351628\n",
      "2400 0.340919\n",
      "2600 0.330734\n",
      "2800 0.321044\n",
      "3000 0.31182\n",
      "3200 0.303037\n",
      "3400 0.29467\n",
      "3600 0.286697\n",
      "3800 0.279093\n",
      "4000 0.27184\n",
      "4200 0.264918\n",
      "4400 0.258306\n",
      "4600 0.251989\n",
      "4800 0.245949\n",
      "5000 0.24017\n",
      "5200 0.234639\n",
      "5400 0.229341\n",
      "5600 0.224263\n",
      "5800 0.219393\n",
      "6000 0.21472\n",
      "6200 0.210233\n",
      "6400 0.205923\n",
      "6600 0.201779\n",
      "6800 0.197793\n",
      "7000 0.193957\n",
      "7200 0.190263\n",
      "7400 0.186703\n",
      "7600 0.183272\n",
      "7800 0.179962\n",
      "8000 0.176767\n",
      "8200 0.173683\n",
      "8400 0.170703\n",
      "8600 0.167822\n",
      "8800 0.165037\n",
      "9000 0.162341\n",
      "9200 0.159733\n",
      "9400 0.157206\n",
      "9600 0.154758\n",
      "9800 0.152386\n",
      "10000 0.150085\n",
      "\n",
      "Hypothesis:  [[ 0.03098834]\n",
      " [ 0.15918107]\n",
      " [ 0.3060534 ]\n",
      " [ 0.78084093]\n",
      " [ 0.9392336 ]\n",
      " [ 0.9800545 ]] \n",
      "Correct (Y):  [[ 0.]\n",
      " [ 0.]\n",
      " [ 0.]\n",
      " [ 1.]\n",
      " [ 1.]\n",
      " [ 1.]] \n",
      "Accuracy:  1.0\n"
     ]
    }
   ],
   "source": [
    "x_data = [[1, 2], [2, 3], [3, 1], [4, 3], [5, 3], [6, 2]] \n",
    "y_data = [[0], [0], [0], [1], [1], [1]]\n",
    "# placeholders for a tensor that will be always fed.\n",
    "X = tf.placeholder(tf.float32, shape=[None, 2])\n",
    "Y = tf.placeholder(tf.float32, shape=[None, 1])\n",
    "\n",
    "W = tf.Variable(tf.random_normal([2, 1]), name='weight')\n",
    "b = tf.Variable(tf.random_normal([1]), name='bias')\n",
    "# Hypothesis using sigmoid: tf.div(1., 1. + tf.exp(tf.matmul(X, W)))\n",
    "hypothesis = tf.sigmoid(tf.matmul(X, W) + b)\n",
    "# cost/loss function\n",
    "cost = -tf.reduce_mean(Y * tf.log(hypothesis) + (1 - Y) * tf.log(1 - hypothesis))\n",
    "train = tf.train.GradientDescentOptimizer(learning_rate=0.01).minimize(cost)\n",
    "\n",
    "# Accuracy computation\n",
    "# True if hypothesis>0.5 else False\n",
    "predicted = tf.cast(hypothesis > 0.5, dtype=tf.float32)\n",
    "accuracy = tf.reduce_mean(tf.cast(tf.equal(predicted, Y), dtype=tf.float32))\n",
    "\n",
    "# Launch graph\n",
    "with tf.Session() as sess:\n",
    "    # Initialize TensorFlow variables\n",
    "    sess.run(tf.global_variables_initializer())\n",
    "\n",
    "    for step in range(10001):\n",
    "        cost_val, _ = sess.run([cost, train], feed_dict={X: x_data, Y: y_data})\n",
    "        if step % 200 == 0:\n",
    "            print(step, cost_val)\n",
    "\n",
    "    # Accuracy report\n",
    "    h, c, a = sess.run([hypothesis, predicted, accuracy],\n",
    "                      feed_dict={X: x_data, Y: y_data})\n",
    "    print(\"\\nHypothesis: \", h, \"\\nCorrect (Y): \", c, \"\\nAccuracy: \", a)\n"
   ]
  },
  {
   "cell_type": "code",
   "execution_count": null,
   "metadata": {
    "collapsed": true
   },
   "outputs": [],
   "source": []
  }
 ],
 "metadata": {
  "kernelspec": {
   "display_name": "Python 3",
   "language": "python",
   "name": "python3"
  },
  "language_info": {
   "codemirror_mode": {
    "name": "ipython",
    "version": 3
   },
   "file_extension": ".py",
   "mimetype": "text/x-python",
   "name": "python",
   "nbconvert_exporter": "python",
   "pygments_lexer": "ipython3",
   "version": "3.6.0"
  }
 },
 "nbformat": 4,
 "nbformat_minor": 2
}
