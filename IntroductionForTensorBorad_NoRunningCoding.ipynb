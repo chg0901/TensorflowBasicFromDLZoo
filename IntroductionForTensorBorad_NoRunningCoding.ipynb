{
 "cells": [
  {
   "cell_type": "markdown",
   "metadata": {},
   "source": [
    "# TensorBoard——TF logging/debugging tool\n",
    "#### 1.Visualize your TF graph\n",
    "#### 2.Plot quantitative metrics\n",
    "#### 3.Show additional data\n"
   ]
  },
  {
   "cell_type": "markdown",
   "metadata": {},
   "source": [
    "## 5 steps of using Tensorboard\n",
    "\n",
    "#### 1. From TF graph, decide which tensors you want to log\n",
    "w2_hist = tf.summary.histogram(\"weights2\", W2)  \n",
    "cost_summ = tf.summary.scalar(\"cost\", cost)\n",
    "#### 2.Merge all summaries\n",
    "summary = tf.summary.merge_all()  \n",
    "#### 3.Create writer and add graph\n",
    "writer = tf.summary.FileWriter(‘./logs’)  \n",
    "writer.add_graph(sess.graph)\n",
    "#### 4.Run summary merge[合并融合] and add_summery\n",
    "s, _ = sess.run([summary, optimizer], feed_dict=feed_dict)  \n",
    "writer.add_summary(s, global_step=global_step)\n",
    "#### 5.Launch TensorBoard\n",
    "tensorboard --logdir=./logs"
   ]
  },
  {
   "cell_type": "markdown",
   "metadata": {},
   "source": [
    "# 1. From TF graph, decide which tensors you want to log\n",
    "## different kind of tensors\n",
    "\n",
    "### scalar tensors\n",
    "cost_summ = tf.symmary.scalar(\"cost\",cost)\n",
    "### histogram (multi-dimensional tensors)\n",
    "W2 = tf.Variable(tf.random_normal([2, 1]), name='weight2')  \n",
    "b2 = tf.Variable(tf.random_normal([1]), name='bias2')  \n",
    "hypothesis = tf.sigmoid(tf.matmul(layer1, W2) + b2)  \n",
    "\n",
    "w2_hist = tf.summary.histogram(\"weights2\", W2)  \n",
    "b2_hist = tf.summary.histogram(\"biases2\", b2)  \n",
    "hypothesis_hist = tf.summary.histogram(\"hypothesis\", hypothesis)\n",
    "### add scope for better graph hierarchy"
   ]
  },
  {
   "cell_type": "markdown",
   "metadata": {},
   "source": [
    "with tf.name_scope(\"layer1\") as scope:  \n",
    "    W1 = tf.Variable(tf.random_normal([2, 2]), name='weight1')  \n",
    "    b1 = tf.Variable(tf.random_normal([2]), name='bias1')  \n",
    "    layer1 = tf.sigmoid(tf.matmul(X, W1) + b1)  \n",
    "\n",
    "    w1_hist = tf.summary.histogram(\"weights1\", W1)  \n",
    "    b1_hist = tf.summary.histogram(\"biases1\", b1)  \n",
    "    layer1_hist = tf.summary.histogram(\"layer1\", layer1)  \n",
    "\n",
    "\n",
    "with tf.name_scope(\"layer2\") as scope:  \n",
    "    W2 = tf.Variable(tf.random_normal([2, 1]), name='weight2')  \n",
    "    b2 = tf.Variable(tf.random_normal([1]), name='bias2')  \n",
    "    hypothesis = tf.sigmoid(tf.matmul(layer1, W2) + b2)  \n",
    "\n",
    "    w2_hist = tf.summary.histogram(\"weights2\", W2)  \n",
    "    b2_hist = tf.summary.histogram(\"biases2\", b2)  \n",
    "    hypothesis_hist = tf.summary.histogram(\"hypothesis\", hypothesis)  "
   ]
  },
  {
   "cell_type": "markdown",
   "metadata": {},
   "source": [
    "# 2.Merge all summaries \n",
    "# 3.Create writer and add graph"
   ]
  },
  {
   "cell_type": "code",
   "execution_count": null,
   "metadata": {
    "collapsed": true
   },
   "outputs": [],
   "source": [
    "# Summary\n",
    "summary = tf.summary.merge_all()\n",
    "\n",
    "# initialize\n",
    "sess = tf.Session() # Launch graph\n",
    "sess.run(tf.global_variables_initializer())  # Initialize TensorFlow variables\n",
    "\n",
    "# Create summary writer\n",
    "writer = tf.summary.FileWriter(TB_SUMMARY_DIR)\n",
    "writer.add_graph(sess.graph) # Add graph in the tensorboard"
   ]
  },
  {
   "cell_type": "markdown",
   "metadata": {},
   "source": [
    "# 4.Run summary merge[合并融合] and add_summery"
   ]
  },
  {
   "cell_type": "code",
   "execution_count": null,
   "metadata": {
    "collapsed": true
   },
   "outputs": [],
   "source": [
    "s, _ = sess.run([summary, optimizer], feed_dict=feed_dict)\n",
    "writer.add_summary(s, global_step=global_step)\n",
    "global_step += 1"
   ]
  },
  {
   "cell_type": "markdown",
   "metadata": {},
   "source": [
    "# 5.Launch TensorBoard\n"
   ]
  },
  {
   "cell_type": "code",
   "execution_count": null,
   "metadata": {
    "collapsed": true
   },
   "outputs": [],
   "source": [
    "%% bash\n",
    "tensorboard —logdir=./logs/xor_logs"
   ]
  },
  {
   "cell_type": "markdown",
   "metadata": {},
   "source": [
    "Starting TensorBoard b'41' on port 6006\n",
    "(You can navigate to http://127.0.0.1:6006)"
   ]
  },
  {
   "cell_type": "markdown",
   "metadata": {},
   "source": [
    "## Launch (remote server)tensorboard "
   ]
  },
  {
   "cell_type": "code",
   "execution_count": null,
   "metadata": {
    "collapsed": true
   },
   "outputs": [],
   "source": [
    "%% bash\n",
    "local>  $ ssh -L 7007:121.0.0.0:6006 hunkim@server.com\n",
    "server> $ tensorboard —logdir=./logs/xor_logs\n"
   ]
  },
  {
   "cell_type": "markdown",
   "metadata": {},
   "source": [
    "(You can navigate to http://127.0.0.1:7007)"
   ]
  },
  {
   "cell_type": "markdown",
   "metadata": {},
   "source": [
    "# Multiple runs"
   ]
  },
  {
   "cell_type": "markdown",
   "metadata": {},
   "source": [
    "like  \n",
    "learning_rate=0.1 VS learning_rate=0.01\n"
   ]
  },
  {
   "cell_type": "code",
   "execution_count": null,
   "metadata": {
    "collapsed": true
   },
   "outputs": [],
   "source": [
    "tensorboard —logdir=./logs/xor_logs\n",
    "    train = tf.train.GradientDescentOptimizer(learning_rate=0.1).minimize(cost)\n",
    "    ...\n",
    "    writer = tf.summary.FileWriter(\"./logs/xor_logs\")\n",
    "tensorboard —logdir=./logs/xor_logs_r0_01\n",
    "    train = tf.train.GradientDescentOptimizer(learning_rate=0.01).minimize(cost)\n",
    "    ...\n",
    "    writer = tf.summary.FileWriter(“\"./logs/xor_logs_r0_01\"”)\n",
    "\n",
    "tensorboard —logdir=./logs"
   ]
  }
 ],
 "metadata": {
  "kernelspec": {
   "display_name": "Python 3",
   "language": "python",
   "name": "python3"
  },
  "language_info": {
   "codemirror_mode": {
    "name": "ipython",
    "version": 3
   },
   "file_extension": ".py",
   "mimetype": "text/x-python",
   "name": "python",
   "nbconvert_exporter": "python",
   "pygments_lexer": "ipython3",
   "version": "3.6.0"
  }
 },
 "nbformat": 4,
 "nbformat_minor": 2
}
